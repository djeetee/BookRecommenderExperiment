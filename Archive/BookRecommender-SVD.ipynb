{
 "cells": [
  {
   "cell_type": "code",
   "execution_count": null,
   "metadata": {},
   "outputs": [],
   "source": [
    "# Notebook: BookRecommender-SVD\n",
    "# Author: George Tohme\n",
    "# Date: Sep 24, 2018"
   ]
  },
  {
   "cell_type": "code",
   "execution_count": null,
   "metadata": {},
   "outputs": [],
   "source": [
    "import numpy as np\n",
    "import pandas as pd\n",
    "\n",
    "from matplotlib import pyplot as plt\n",
    "\n",
    "from sklearn.metrics import mean_absolute_error\n",
    "from sklearn.metrics import mean_squared_error\n",
    "from sklearn.model_selection import train_test_split\n",
    "\n",
    "from scipy.sparse.linalg import svds\n",
    "\n",
    "from math import sqrt\n",
    "\n",
    "from IPython.display import SVG, display, HTML\n",
    "\n",
    "import keras\n",
    "from keras.models import Model\n",
    "from keras.layers import Input, Embedding\n",
    "from keras.layers.core import Flatten, Dense, Dropout\n",
    "from keras.regularizers import l2\n",
    "from keras.optimizers import Adam, SGD\n",
    "from keras.layers.merge import dot, add, concatenate\n",
    "from keras.constraints import non_neg\n",
    "\n",
    "from keras.utils.vis_utils import model_to_dot\n",
    "from keras.utils import plot_model"
   ]
  },
  {
   "cell_type": "code",
   "execution_count": null,
   "metadata": {},
   "outputs": [],
   "source": [
    "# Constants\n",
    "MM_LATENT_FACTORS = 3\n",
    "\n",
    "TRAIN_EPOCHS = 100\n",
    "TRAIN_VERBOSE = 1\n",
    "\n",
    "TRAIN_SPLIT_RATIO = 0.2\n",
    "\n",
    "NN_USER_LATENT_FACTORS = 5\n",
    "NN_MOVIE_LATENT_FACTORS = 8\n",
    "NN_TRAIN_EPOCHS = 100\n",
    "\n",
    "# Non-negative Matrix factorisation\n",
    "NNMF = True\n",
    "\n",
    "SGD_OPTIMIZER = True\n",
    "\n",
    "# Adam Parameters\n",
    "Adam_lr=0.0001\n",
    "Adam_beta_1=0.9\n",
    "Adam_beta_2=0.999\n",
    "Adam_epsilon=None\n",
    "Adam_decay=0.0\n",
    "Adam_amsgrad=False\n",
    "\n",
    "#SGD Parameters\n",
    "SGD_lr=0.02\n",
    "SGD_momentum=0.0\n",
    "SGD_decay=0.0\n",
    "SGD_nesterov=False"
   ]
  },
  {
   "cell_type": "code",
   "execution_count": null,
   "metadata": {},
   "outputs": [],
   "source": [
    "impressionRatings = {\n",
    "  \"dislike\" : 0,\n",
    "  \"view\" : 1,\n",
    "  \"interact\" : 2,\n",
    "  \"like\" : 3,\n",
    "  \"add to cart\" : 4,\n",
    "  \"checkout\" : 5\n",
    "}"
   ]
  },
  {
   "cell_type": "code",
   "execution_count": null,
   "metadata": {},
   "outputs": [],
   "source": [
    "from IPython.display import display_html\n",
    "def displaySideBySide(*args):\n",
    "    htmlStr=''\n",
    "    for df in args:\n",
    "        htmlStr += df.to_html()\n",
    "    display_html(htmlStr.replace('table','table style=\"display:inline\"'), raw=True)\n",
    "#enddef"
   ]
  },
  {
   "cell_type": "code",
   "execution_count": null,
   "metadata": {
    "scrolled": true
   },
   "outputs": [],
   "source": [
    "usersDataFrame = pd.read_csv('../Data/Users.csv', encoding = 'latin-1')\n",
    "booksDataFrame = pd.read_csv('../Data/Books.csv', encoding = 'latin-1')\n",
    "eventsDataFrame = pd.read_csv('../Data/UserEvents.csv', encoding = 'latin-1')"
   ]
  },
  {
   "cell_type": "code",
   "execution_count": null,
   "metadata": {
    "scrolled": true
   },
   "outputs": [],
   "source": [
    "len(usersDataFrame.index), len(booksDataFrame.index), len(eventsDataFrame.index)"
   ]
  },
  {
   "cell_type": "code",
   "execution_count": null,
   "metadata": {},
   "outputs": [],
   "source": [
    "eventsDataFrame = eventsDataFrame[0:100000]"
   ]
  },
  {
   "cell_type": "code",
   "execution_count": null,
   "metadata": {},
   "outputs": [],
   "source": [
    "eventsDataFrame.head()"
   ]
  },
  {
   "cell_type": "code",
   "execution_count": null,
   "metadata": {},
   "outputs": [],
   "source": [
    "# Create a dictionary to build a unique sequencial indexing of users and movies \n",
    "def idToIndex(idsList):\n",
    "    idToIndexDict = {str(oldId): index for index, oldId in enumerate(idsList)}\n",
    "    indexToIdDict = {str(index): oldId for index, oldId in zip(idToIndexDict.values(), idToIndexDict.keys())}\n",
    "    return idToIndexDict, indexToIdDict\n",
    "#enddef"
   ]
  },
  {
   "cell_type": "code",
   "execution_count": null,
   "metadata": {
    "scrolled": true
   },
   "outputs": [],
   "source": [
    "eventsDataFrame.drop(eventsDataFrame.columns[0], axis=1, inplace=True)\n",
    "eventsDataFrame.rename(columns={\"user\": \"userId\"}, inplace = True)\n",
    "eventsDataFrame = pd.concat([eventsDataFrame, pd.get_dummies(eventsDataFrame['impression'], prefix='impression')],axis=1)"
   ]
  },
  {
   "cell_type": "code",
   "execution_count": null,
   "metadata": {},
   "outputs": [],
   "source": [
    "userIdToIndex, userIndexToId = idToIndex(list(eventsDataFrame['userId'].unique()))\n",
    "bookIdToIndex, bookIndexToId = idToIndex(list(eventsDataFrame['bookId'].unique()))\n",
    "\n",
    "# Add two unique index columns to the DataFrame\n",
    "eventsDataFrame['userIDX'] = eventsDataFrame['userId'].apply(lambda Id: userIdToIndex[str(Id)])\n",
    "eventsDataFrame['bookIDX'] = eventsDataFrame['bookId'].apply(lambda Id: bookIdToIndex[str(Id)])"
   ]
  },
  {
   "cell_type": "code",
   "execution_count": null,
   "metadata": {
    "scrolled": false
   },
   "outputs": [],
   "source": [
    "# Convert the impression to a rating\n",
    "eventsDataFrame[\"impressionRating\"] = eventsDataFrame[\"impression\"].map(impressionRatings)\n",
    "eventsDataFrame.drop(eventsDataFrame.columns[[0,1,2,3,4,5,6,7,8]], axis=1, inplace=True)"
   ]
  },
  {
   "cell_type": "code",
   "execution_count": null,
   "metadata": {
    "scrolled": true
   },
   "outputs": [],
   "source": [
    "usersDataFrame.head()"
   ]
  },
  {
   "cell_type": "code",
   "execution_count": null,
   "metadata": {},
   "outputs": [],
   "source": [
    "booksDataFrame.head()"
   ]
  },
  {
   "cell_type": "code",
   "execution_count": null,
   "metadata": {
    "scrolled": false
   },
   "outputs": [],
   "source": [
    "eventsDataFrame.head()"
   ]
  },
  {
   "cell_type": "code",
   "execution_count": null,
   "metadata": {},
   "outputs": [],
   "source": [
    "# Inspect the crosstab of the top users/movies ratings\n",
    "\n",
    "g = eventsDataFrame.groupby('userId')['impression'].count()\n",
    "topUsers=g.sort_values(ascending=False)[:20]\n",
    "\n",
    "g = eventsDataFrame.groupby('bookId')['impression'].count()\n",
    "topBooks=g.sort_values(ascending=False)[:20]\n",
    "\n",
    "topRatings = eventsDataFrame.join(topUsers, rsuffix='_r', how='inner', on='userId')\n",
    "topRatings = topRatings.join(topBooks, rsuffix='_r', how='inner', on='bookId')\n",
    "\n",
    "pd.crosstab(topRatings.userId, topRatings.bookId, topRatings.impression, aggfunc=np.sum)"
   ]
  },
  {
   "cell_type": "code",
   "execution_count": null,
   "metadata": {
    "scrolled": true
   },
   "outputs": [],
   "source": [
    "# dig into the data...\n",
    "numOfUsers = len(eventsDataFrame['userIDX'].unique())\n",
    "numOfBooks = len(eventsDataFrame['bookIDX'].unique())\n",
    "dataSparcity = 100.0 - (100.0 * len(eventsDataFrame) / (numOfUsers * numOfBooks))\n",
    "\n",
    "print(\"Number of users: \" + str(numOfUsers))\n",
    "print(\"Number of books: \" + str(numOfBooks))\n",
    "print(\"Matrix sparcity: {0:2.4f}%\".format(dataSparcity))"
   ]
  },
  {
   "cell_type": "code",
   "execution_count": null,
   "metadata": {
    "scrolled": true
   },
   "outputs": [],
   "source": [
    "trainDataFrame, testDataFrame = train_test_split(eventsDataFrame, test_size=TRAIN_SPLIT_RATIO)\n",
    "#actualImpressions = testDataFrame[[\"impression_checkout\", \"impression_dislike\", \"impression_interact\", \"impression_like\", \"impression_view\"]]\n",
    "actualImpressionRatings = testDataFrame[\"impressionRating\"]"
   ]
  },
  {
   "cell_type": "code",
   "execution_count": null,
   "metadata": {},
   "outputs": [],
   "source": [
    "trainDataFrame.head()"
   ]
  },
  {
   "cell_type": "code",
   "execution_count": null,
   "metadata": {
    "scrolled": true
   },
   "outputs": [],
   "source": [
    "testDataFrame.head()"
   ]
  },
  {
   "cell_type": "code",
   "execution_count": null,
   "metadata": {},
   "outputs": [],
   "source": [
    "actualImpressionRatings.head()"
   ]
  },
  {
   "cell_type": "code",
   "execution_count": null,
   "metadata": {},
   "outputs": [],
   "source": []
  },
  {
   "cell_type": "code",
   "execution_count": null,
   "metadata": {},
   "outputs": [],
   "source": []
  },
  {
   "cell_type": "markdown",
   "metadata": {},
   "source": [
    "#### ---------Matrix Multiplication (SVD) Implementation--------------"
   ]
  },
  {
   "cell_type": "code",
   "execution_count": null,
   "metadata": {},
   "outputs": [],
   "source": [
    "# Inspect the crosstab of the top users/movies ratings\n",
    "\n",
    "g = eventsDataFrame.groupby('userId')['impressionRating'].count()\n",
    "topUsers=g.sort_values(ascending=False)\n",
    "\n",
    "g = eventsDataFrame.groupby('bookId')['impressionRating'].count()\n",
    "topBooks=g.sort_values(ascending=False)\n",
    "\n",
    "topRatings = eventsDataFrame.join(topUsers, rsuffix='_r', how='inner', on='userId')\n",
    "topRatings = topRatings.join(topBooks, rsuffix='_r', how='inner', on='bookId')\n",
    "\n",
    "pd.crosstab(topRatings.userId, topRatings.bookId, topRatings.impression, aggfunc=np.sum)"
   ]
  },
  {
   "cell_type": "code",
   "execution_count": null,
   "metadata": {
    "scrolled": true
   },
   "outputs": [],
   "source": [
    "R_df = eventsDataFrame.pivot(index = 'userIDX', columns ='bookIDX', values = 'impressionRating').fillna(0)\n",
    "R_df.head()\n",
    "\n"
   ]
  },
  {
   "cell_type": "code",
   "execution_count": null,
   "metadata": {},
   "outputs": [],
   "source": [
    "\n",
    "R = R_df.as_matrix()\n",
    "user_ratings_mean = np.mean(R, axis = 1)\n",
    "R_demeaned = R - user_ratings_mean.reshape(-1, 1)\n",
    "\n",
    "\n",
    "U, sigma, Vt = svds(R_demeaned, k = 50)\n",
    "\n",
    "sigma = np.diag(sigma)"
   ]
  },
  {
   "cell_type": "markdown",
   "metadata": {},
   "source": [
    "#### ---------END NOTEBOOK--------------"
   ]
  }
 ],
 "metadata": {
  "kernelspec": {
   "display_name": "Python 3",
   "language": "python",
   "name": "python3"
  },
  "language_info": {
   "codemirror_mode": {
    "name": "ipython",
    "version": 3
   },
   "file_extension": ".py",
   "mimetype": "text/x-python",
   "name": "python",
   "nbconvert_exporter": "python",
   "pygments_lexer": "ipython3",
   "version": "3.6.7"
  }
 },
 "nbformat": 4,
 "nbformat_minor": 2
}
