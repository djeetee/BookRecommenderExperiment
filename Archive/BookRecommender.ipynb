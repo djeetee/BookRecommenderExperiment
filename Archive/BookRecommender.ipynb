{
 "cells": [
  {
   "cell_type": "code",
   "execution_count": 1,
   "metadata": {},
   "outputs": [],
   "source": [
    "# Notebook: BookRecommender\n",
    "# Author: George Tohme\n",
    "# Date: Sep 26, 2018"
   ]
  },
  {
   "cell_type": "code",
   "execution_count": 2,
   "metadata": {},
   "outputs": [
    {
     "name": "stderr",
     "output_type": "stream",
     "text": [
      "/anaconda3/envs/keras/lib/python3.6/site-packages/h5py/__init__.py:36: FutureWarning: Conversion of the second argument of issubdtype from `float` to `np.floating` is deprecated. In future, it will be treated as `np.float64 == np.dtype(float).type`.\n",
      "  from ._conv import register_converters as _register_converters\n",
      "Using TensorFlow backend.\n"
     ]
    }
   ],
   "source": [
    "import numpy as np\n",
    "import pandas as pd\n",
    "\n",
    "from matplotlib import pyplot as plt\n",
    "\n",
    "from sklearn.metrics import mean_absolute_error\n",
    "from sklearn.metrics import mean_squared_error\n",
    "from sklearn.model_selection import train_test_split\n",
    "\n",
    "from scipy.sparse.linalg import svds\n",
    "\n",
    "from math import sqrt\n",
    "\n",
    "from IPython.display import SVG, display, HTML\n",
    "from keras.utils.vis_utils import model_to_dot\n",
    "from keras.utils import plot_model\n",
    "\n",
    "import pydot\n",
    "\n",
    "import keras\n",
    "\n",
    "from keras.models import Model\n",
    "from keras.layers import Input, Embedding\n",
    "from keras.layers.core import Flatten, Dense, Dropout\n",
    "from keras.layers.merge import dot, add, concatenate\n",
    "\n",
    "from keras.regularizers import l2\n",
    "from keras.optimizers import Adam, SGD\n",
    "from keras.constraints import non_neg"
   ]
  },
  {
   "cell_type": "code",
   "execution_count": 77,
   "metadata": {},
   "outputs": [],
   "source": [
    "# Constants\n",
    "\n",
    "SVDS_k = 5\n",
    "MAX_RECOMMENDATIONS = 10\n",
    "\n",
    "MM_LATENT_FACTORS = 3\n",
    "MM_BATCH_SIZE = 64\n",
    "MM_TRAIN_EPOCHS = 50\n",
    "\n",
    "TRAIN_VERBOSE = 1\n",
    "TRAIN_SPLIT_RATIO = 0.2\n",
    "\n",
    "NN_USER_LATENT_FACTORS = 5\n",
    "NN_MOVIE_LATENT_FACTORS = 8\n",
    "NN_TRAIN_EPOCHS = 50\n",
    "NN_BATCH_SIZE = 64\n",
    "\n",
    "# Non-negative Matrix factorisation\n",
    "NNMF = True\n",
    "\n",
    "SGD_OPTIMIZER = False\n",
    "\n",
    "# Adam Parameters\n",
    "Adam_lr=0.02\n",
    "Adam_beta_1=0.9\n",
    "Adam_beta_2=0.999\n",
    "Adam_epsilon=None\n",
    "Adam_decay=0.0\n",
    "Adam_amsgrad=False\n",
    "\n",
    "#SGD Parameters\n",
    "SGD_lr=0.02\n",
    "SGD_momentum=0.0\n",
    "SGD_decay=0.0\n",
    "SGD_nesterov=False"
   ]
  },
  {
   "cell_type": "markdown",
   "metadata": {},
   "source": [
    "### General notes\n",
    "- The quality of the provided data ...\n",
    "- New user predictions: 'cold start problem'\n",
    "- Not the most elegant code: inefficient use of memeory (lots of pd dataframes), df joinging/merging is a bit convoluted.\n"
   ]
  },
  {
   "cell_type": "markdown",
   "metadata": {},
   "source": [
    "### Approach\n",
    "- Since we don't have actual ratings of books by users but rather the interaction with the books,\n",
    "I opted to treat the 6 types of interactions as ...."
   ]
  },
  {
   "cell_type": "code",
   "execution_count": 4,
   "metadata": {},
   "outputs": [],
   "source": [
    "# Translate the events action to ratings. \n",
    "# That's the approach taken in this Notebook.\n",
    "\n",
    "# Another idea is to one-hot encode the actions and then \n",
    "# treat the problem as a classification problem. \n",
    "# Have not tried this to see if it yields better predictions.\n",
    "\n",
    "impressionRatings = {\n",
    "  \"dislike\" : 0,\n",
    "  \"view\" : 1,\n",
    "  \"interact\" : 2,\n",
    "  \"like\" : 3,\n",
    "  \"add to cart\" : 4,\n",
    "  \"checkout\" : 5\n",
    "}"
   ]
  },
  {
   "cell_type": "code",
   "execution_count": 5,
   "metadata": {},
   "outputs": [],
   "source": [
    "# A function to display tables & plots side-by-side\n",
    "\n",
    "from IPython.display import display_html\n",
    "def displaySideBySide(*args):\n",
    "    htmlStr=''\n",
    "    for df in args:\n",
    "        htmlStr += df.to_html()\n",
    "    display_html(htmlStr.replace('table','table style=\"display:inline\"'), raw=True)\n",
    "#enddef"
   ]
  },
  {
   "cell_type": "markdown",
   "metadata": {},
   "source": [
    "#### Read and show the data..."
   ]
  },
  {
   "cell_type": "code",
   "execution_count": 6,
   "metadata": {
    "scrolled": true
   },
   "outputs": [],
   "source": [
    "usersDataFrame = pd.read_csv('../Data/Users.csv', encoding = 'latin-1')\n",
    "booksDataFrame = pd.read_csv('../Data/Books.csv', encoding = 'latin-1')\n",
    "eventsDataFrame = pd.read_csv('../Data/UserEvents.csv', encoding = 'latin-1')"
   ]
  },
  {
   "cell_type": "code",
   "execution_count": 7,
   "metadata": {
    "scrolled": true
   },
   "outputs": [
    {
     "data": {
      "text/plain": [
       "(100000, 149998, 400000)"
      ]
     },
     "execution_count": 7,
     "metadata": {},
     "output_type": "execute_result"
    }
   ],
   "source": [
    "# Preliminary dimensions\n",
    "len(usersDataFrame.index), len(booksDataFrame.index), len(eventsDataFrame.index)"
   ]
  },
  {
   "cell_type": "code",
   "execution_count": 8,
   "metadata": {},
   "outputs": [
    {
     "data": {
      "text/html": [
       "<div>\n",
       "<style scoped>\n",
       "    .dataframe tbody tr th:only-of-type {\n",
       "        vertical-align: middle;\n",
       "    }\n",
       "\n",
       "    .dataframe tbody tr th {\n",
       "        vertical-align: top;\n",
       "    }\n",
       "\n",
       "    .dataframe thead th {\n",
       "        text-align: right;\n",
       "    }\n",
       "</style>\n",
       "<table border=\"1\" class=\"dataframe\">\n",
       "  <thead>\n",
       "    <tr style=\"text-align: right;\">\n",
       "      <th></th>\n",
       "      <th>Unnamed: 0</th>\n",
       "      <th>user</th>\n",
       "      <th>location</th>\n",
       "      <th>age</th>\n",
       "    </tr>\n",
       "  </thead>\n",
       "  <tbody>\n",
       "    <tr>\n",
       "      <th>0</th>\n",
       "      <td>177121</td>\n",
       "      <td>177122.0</td>\n",
       "      <td>winter park, florida, usa</td>\n",
       "      <td>50.0</td>\n",
       "    </tr>\n",
       "    <tr>\n",
       "      <th>1</th>\n",
       "      <td>174021</td>\n",
       "      <td>174022.0</td>\n",
       "      <td>fairview park, ohio, usa</td>\n",
       "      <td>NaN</td>\n",
       "    </tr>\n",
       "    <tr>\n",
       "      <th>2</th>\n",
       "      <td>179441</td>\n",
       "      <td>179442.0</td>\n",
       "      <td>farmville, north carolina, usa</td>\n",
       "      <td>45.0</td>\n",
       "    </tr>\n",
       "    <tr>\n",
       "      <th>3</th>\n",
       "      <td>44391</td>\n",
       "      <td>44392.0</td>\n",
       "      <td>weston, florida, usa</td>\n",
       "      <td>65.0</td>\n",
       "    </tr>\n",
       "    <tr>\n",
       "      <th>4</th>\n",
       "      <td>89250</td>\n",
       "      <td>89251.0</td>\n",
       "      <td>duesseldorf, n/a, germany</td>\n",
       "      <td>NaN</td>\n",
       "    </tr>\n",
       "  </tbody>\n",
       "</table>\n",
       "</div>"
      ],
      "text/plain": [
       "   Unnamed: 0      user                        location   age\n",
       "0      177121  177122.0       winter park, florida, usa  50.0\n",
       "1      174021  174022.0        fairview park, ohio, usa   NaN\n",
       "2      179441  179442.0  farmville, north carolina, usa  45.0\n",
       "3       44391   44392.0            weston, florida, usa  65.0\n",
       "4       89250   89251.0       duesseldorf, n/a, germany   NaN"
      ]
     },
     "execution_count": 8,
     "metadata": {},
     "output_type": "execute_result"
    }
   ],
   "source": [
    "usersDataFrame.head()"
   ]
  },
  {
   "cell_type": "code",
   "execution_count": 9,
   "metadata": {},
   "outputs": [
    {
     "data": {
      "text/html": [
       "<div>\n",
       "<style scoped>\n",
       "    .dataframe tbody tr th:only-of-type {\n",
       "        vertical-align: middle;\n",
       "    }\n",
       "\n",
       "    .dataframe tbody tr th {\n",
       "        vertical-align: top;\n",
       "    }\n",
       "\n",
       "    .dataframe thead th {\n",
       "        text-align: right;\n",
       "    }\n",
       "</style>\n",
       "<table border=\"1\" class=\"dataframe\">\n",
       "  <thead>\n",
       "    <tr style=\"text-align: right;\">\n",
       "      <th></th>\n",
       "      <th>Unnamed: 0</th>\n",
       "      <th>bookISBN</th>\n",
       "      <th>bookName</th>\n",
       "      <th>author</th>\n",
       "      <th>yearOfPublication</th>\n",
       "      <th>publisher</th>\n",
       "      <th>urlId</th>\n",
       "    </tr>\n",
       "  </thead>\n",
       "  <tbody>\n",
       "    <tr>\n",
       "      <th>0</th>\n",
       "      <td>58005</td>\n",
       "      <td>773730982</td>\n",
       "      <td>Stretch, Swallow &amp;amp; Stare</td>\n",
       "      <td>Veronika Martenova Charles</td>\n",
       "      <td>1999</td>\n",
       "      <td>Stoddart Kids</td>\n",
       "      <td>8040.0</td>\n",
       "    </tr>\n",
       "    <tr>\n",
       "      <th>1</th>\n",
       "      <td>158211</td>\n",
       "      <td>916620867</td>\n",
       "      <td>The Two Faces of Religion: A Psychiatrists View</td>\n",
       "      <td>N.S. Xavier</td>\n",
       "      <td>1987</td>\n",
       "      <td>Portals Pr</td>\n",
       "      <td>46584.0</td>\n",
       "    </tr>\n",
       "    <tr>\n",
       "      <th>2</th>\n",
       "      <td>127812</td>\n",
       "      <td>380978598</td>\n",
       "      <td>Roma Eterna</td>\n",
       "      <td>Robert Silverberg</td>\n",
       "      <td>2003</td>\n",
       "      <td>Eos</td>\n",
       "      <td>39681.0</td>\n",
       "    </tr>\n",
       "    <tr>\n",
       "      <th>3</th>\n",
       "      <td>47598</td>\n",
       "      <td>802727719</td>\n",
       "      <td>For Everything a Season: Simple Musings on Liv...</td>\n",
       "      <td>Philip Gulley</td>\n",
       "      <td>2001</td>\n",
       "      <td>Walker Large Print</td>\n",
       "      <td>29478.0</td>\n",
       "    </tr>\n",
       "    <tr>\n",
       "      <th>4</th>\n",
       "      <td>131723</td>\n",
       "      <td>446604178</td>\n",
       "      <td>Mountain, Get Out of My Way: Life Lessons and ...</td>\n",
       "      <td>Montel Williams</td>\n",
       "      <td>1997</td>\n",
       "      <td>Warner Books (Mm)</td>\n",
       "      <td>104573.0</td>\n",
       "    </tr>\n",
       "  </tbody>\n",
       "</table>\n",
       "</div>"
      ],
      "text/plain": [
       "   Unnamed: 0   bookISBN                                           bookName  \\\n",
       "0       58005  773730982                       Stretch, Swallow &amp; Stare   \n",
       "1      158211  916620867    The Two Faces of Religion: A Psychiatrists View   \n",
       "2      127812  380978598                                        Roma Eterna   \n",
       "3       47598  802727719  For Everything a Season: Simple Musings on Liv...   \n",
       "4      131723  446604178  Mountain, Get Out of My Way: Life Lessons and ...   \n",
       "\n",
       "                       author  yearOfPublication           publisher     urlId  \n",
       "0  Veronika Martenova Charles               1999       Stoddart Kids    8040.0  \n",
       "1                 N.S. Xavier               1987          Portals Pr   46584.0  \n",
       "2           Robert Silverberg               2003                 Eos   39681.0  \n",
       "3               Philip Gulley               2001  Walker Large Print   29478.0  \n",
       "4             Montel Williams               1997   Warner Books (Mm)  104573.0  "
      ]
     },
     "execution_count": 9,
     "metadata": {},
     "output_type": "execute_result"
    }
   ],
   "source": [
    "booksDataFrame.head()"
   ]
  },
  {
   "cell_type": "code",
   "execution_count": 10,
   "metadata": {},
   "outputs": [
    {
     "data": {
      "text/html": [
       "<div>\n",
       "<style scoped>\n",
       "    .dataframe tbody tr th:only-of-type {\n",
       "        vertical-align: middle;\n",
       "    }\n",
       "\n",
       "    .dataframe tbody tr th {\n",
       "        vertical-align: top;\n",
       "    }\n",
       "\n",
       "    .dataframe thead th {\n",
       "        text-align: right;\n",
       "    }\n",
       "</style>\n",
       "<table border=\"1\" class=\"dataframe\">\n",
       "  <thead>\n",
       "    <tr style=\"text-align: right;\">\n",
       "      <th></th>\n",
       "      <th>Unnamed: 0</th>\n",
       "      <th>user</th>\n",
       "      <th>bookId</th>\n",
       "      <th>impression</th>\n",
       "    </tr>\n",
       "  </thead>\n",
       "  <tbody>\n",
       "    <tr>\n",
       "      <th>0</th>\n",
       "      <td>523113</td>\n",
       "      <td>126736</td>\n",
       "      <td>0843946806</td>\n",
       "      <td>dislike</td>\n",
       "    </tr>\n",
       "    <tr>\n",
       "      <th>1</th>\n",
       "      <td>861298</td>\n",
       "      <td>208406</td>\n",
       "      <td>0345353145</td>\n",
       "      <td>like</td>\n",
       "    </tr>\n",
       "    <tr>\n",
       "      <th>2</th>\n",
       "      <td>37104</td>\n",
       "      <td>8890</td>\n",
       "      <td>2020213508</td>\n",
       "      <td>add to cart</td>\n",
       "    </tr>\n",
       "    <tr>\n",
       "      <th>3</th>\n",
       "      <td>328497</td>\n",
       "      <td>78553</td>\n",
       "      <td>0451402383</td>\n",
       "      <td>add to cart</td>\n",
       "    </tr>\n",
       "    <tr>\n",
       "      <th>4</th>\n",
       "      <td>121368</td>\n",
       "      <td>27875</td>\n",
       "      <td>0307129659</td>\n",
       "      <td>add to cart</td>\n",
       "    </tr>\n",
       "  </tbody>\n",
       "</table>\n",
       "</div>"
      ],
      "text/plain": [
       "   Unnamed: 0    user      bookId   impression\n",
       "0      523113  126736  0843946806      dislike\n",
       "1      861298  208406  0345353145         like\n",
       "2       37104    8890  2020213508  add to cart\n",
       "3      328497   78553  0451402383  add to cart\n",
       "4      121368   27875  0307129659  add to cart"
      ]
     },
     "execution_count": 10,
     "metadata": {},
     "output_type": "execute_result"
    }
   ],
   "source": [
    "eventsDataFrame.head()"
   ]
  },
  {
   "cell_type": "markdown",
   "metadata": {},
   "source": [
    "#### Preliminary cleanup..."
   ]
  },
  {
   "cell_type": "code",
   "execution_count": 11,
   "metadata": {},
   "outputs": [],
   "source": [
    "# Rename the user column for consistency\n",
    "usersDataFrame.rename(columns={\"user\": \"userId\"}, inplace = True)"
   ]
  },
  {
   "cell_type": "code",
   "execution_count": 12,
   "metadata": {},
   "outputs": [],
   "source": [
    "# Rename the bookId column for consistency\n",
    "booksDataFrame.rename(columns={\"bookId\": \"bookISBN\"}, inplace = True)"
   ]
  },
  {
   "cell_type": "code",
   "execution_count": 13,
   "metadata": {},
   "outputs": [],
   "source": [
    "# Some housekeeping column names updates for consistency and clarity...\n",
    "eventsDataFrame.rename(columns={\"user\": \"userId\"}, inplace = True)\n",
    "eventsDataFrame.rename(columns={\"bookId\": \"bookISBN\"}, inplace = True)"
   ]
  },
  {
   "cell_type": "code",
   "execution_count": 14,
   "metadata": {},
   "outputs": [],
   "source": [
    "# Convert the impression to a rating (think sales funnel ratings)\n",
    "eventsDataFrame[\"impressionRating\"] = eventsDataFrame[\"impression\"].map(impressionRatings)"
   ]
  },
  {
   "cell_type": "code",
   "execution_count": 15,
   "metadata": {},
   "outputs": [],
   "source": [
    "# Remove the old text impression columns and the first column (event row id)\n",
    "eventsDataFrame.drop(eventsDataFrame.columns[0], axis=1, inplace=True)\n",
    "eventsDataFrame.drop(eventsDataFrame.columns[2], axis=1, inplace=True)"
   ]
  },
  {
   "cell_type": "markdown",
   "metadata": {},
   "source": [
    "#### Merge the dataframes and remove the nulls..."
   ]
  },
  {
   "cell_type": "code",
   "execution_count": 16,
   "metadata": {},
   "outputs": [],
   "source": [
    "# Join the events DF to the books DF using the books' ISBN.\n",
    "# We're doing this, to ensure we're counting the books and users \n",
    "# that exist in the other tables (files)\n",
    "\n",
    "# Building the unique indices based on the full events file will \n",
    "# yield incorrect data and will cause the models to crash as some ids will \n",
    "# larger than what max count is.\n",
    "\n",
    "filledEventsDataFrame = pd.merge(eventsDataFrame,\n",
    "             booksDataFrame[['author', 'yearOfPublication', 'bookISBN']], \n",
    "             on='bookISBN', \n",
    "             how='inner')"
   ]
  },
  {
   "cell_type": "code",
   "execution_count": 17,
   "metadata": {},
   "outputs": [],
   "source": [
    "# Remove all nulls...\n",
    "filledEventsDataFrame = filledEventsDataFrame.dropna()"
   ]
  },
  {
   "cell_type": "markdown",
   "metadata": {},
   "source": [
    "#### Create unique ids for come columns..."
   ]
  },
  {
   "cell_type": "code",
   "execution_count": 18,
   "metadata": {
    "scrolled": true
   },
   "outputs": [],
   "source": [
    "# Build an index for the books' authors' names\n",
    "authors = filledEventsDataFrame['author'].unique()\n",
    "authorsDict = {name: authorId for authorId, name in enumerate(authors)}\n",
    "\n",
    "# add it to the books dataframe\n",
    "booksDataFrame[\"authorIDX\"] = booksDataFrame[\"author\"].map(authorsDict)\n",
    "# and to ....\n",
    "filledEventsDataFrame[\"authorIDX\"] = filledEventsDataFrame[\"author\"].map(authorsDict)"
   ]
  },
  {
   "cell_type": "code",
   "execution_count": 19,
   "metadata": {},
   "outputs": [],
   "source": [
    "# Create a book id based on the users in the events dataset\n",
    "bookIds = filledEventsDataFrame[\"bookISBN\"].unique()\n",
    "bookIdsDict = {bookId: bookIDX for bookIDX, bookId in enumerate(bookIds)}\n",
    "\n",
    "# add it to the books dataframe\n",
    "booksDataFrame[\"bookIDX\"] = booksDataFrame[\"bookISBN\"].map(bookIdsDict)\n",
    "\n",
    "# and to ...\n",
    "filledEventsDataFrame[\"bookIDX\"] = filledEventsDataFrame[\"bookISBN\"].map(bookIdsDict)"
   ]
  },
  {
   "cell_type": "code",
   "execution_count": 20,
   "metadata": {},
   "outputs": [],
   "source": [
    "# Create a unique user id based on the users in the events dataset\n",
    "userIds = filledEventsDataFrame[\"userId\"].unique()\n",
    "userIdsDict = {userId: userIDX for userIDX, userId in enumerate(userIds)}\n",
    "\n",
    "# Add it to the users dataframe\n",
    "usersDataFrame[\"userIDX\"] = usersDataFrame[\"userId\"].map(userIdsDict)\n",
    "\n",
    "# and to ...\n",
    "filledEventsDataFrame[\"userIDX\"] = filledEventsDataFrame[\"userId\"].map(userIdsDict)"
   ]
  },
  {
   "cell_type": "code",
   "execution_count": 21,
   "metadata": {
    "scrolled": true
   },
   "outputs": [
    {
     "data": {
      "text/html": [
       "<div>\n",
       "<style scoped>\n",
       "    .dataframe tbody tr th:only-of-type {\n",
       "        vertical-align: middle;\n",
       "    }\n",
       "\n",
       "    .dataframe tbody tr th {\n",
       "        vertical-align: top;\n",
       "    }\n",
       "\n",
       "    .dataframe thead th {\n",
       "        text-align: right;\n",
       "    }\n",
       "</style>\n",
       "<table border=\"1\" class=\"dataframe\">\n",
       "  <thead>\n",
       "    <tr style=\"text-align: right;\">\n",
       "      <th></th>\n",
       "      <th>userId</th>\n",
       "      <th>bookISBN</th>\n",
       "      <th>impressionRating</th>\n",
       "      <th>author</th>\n",
       "      <th>yearOfPublication</th>\n",
       "      <th>authorIDX</th>\n",
       "      <th>bookIDX</th>\n",
       "      <th>userIDX</th>\n",
       "    </tr>\n",
       "  </thead>\n",
       "  <tbody>\n",
       "    <tr>\n",
       "      <th>0</th>\n",
       "      <td>850</td>\n",
       "      <td>3426616262</td>\n",
       "      <td>2</td>\n",
       "      <td>Alexander Solschenizyn</td>\n",
       "      <td>1999</td>\n",
       "      <td>0</td>\n",
       "      <td>0</td>\n",
       "      <td>0</td>\n",
       "    </tr>\n",
       "    <tr>\n",
       "      <th>1</th>\n",
       "      <td>177458</td>\n",
       "      <td>1565112318</td>\n",
       "      <td>2</td>\n",
       "      <td>Neil Gaiman</td>\n",
       "      <td>1997</td>\n",
       "      <td>1</td>\n",
       "      <td>1</td>\n",
       "      <td>1</td>\n",
       "    </tr>\n",
       "    <tr>\n",
       "      <th>2</th>\n",
       "      <td>151420</td>\n",
       "      <td>8445071416</td>\n",
       "      <td>4</td>\n",
       "      <td>J. R. R. Tolkien</td>\n",
       "      <td>1991</td>\n",
       "      <td>2</td>\n",
       "      <td>2</td>\n",
       "      <td>2</td>\n",
       "    </tr>\n",
       "    <tr>\n",
       "      <th>3</th>\n",
       "      <td>229501</td>\n",
       "      <td>8445071416</td>\n",
       "      <td>3</td>\n",
       "      <td>J. R. R. Tolkien</td>\n",
       "      <td>1991</td>\n",
       "      <td>2</td>\n",
       "      <td>2</td>\n",
       "      <td>3</td>\n",
       "    </tr>\n",
       "    <tr>\n",
       "      <th>4</th>\n",
       "      <td>93755</td>\n",
       "      <td>8445071416</td>\n",
       "      <td>4</td>\n",
       "      <td>J. R. R. Tolkien</td>\n",
       "      <td>1991</td>\n",
       "      <td>2</td>\n",
       "      <td>2</td>\n",
       "      <td>4</td>\n",
       "    </tr>\n",
       "  </tbody>\n",
       "</table>\n",
       "</div>"
      ],
      "text/plain": [
       "   userId    bookISBN  impressionRating                  author  \\\n",
       "0     850  3426616262                 2  Alexander Solschenizyn   \n",
       "1  177458  1565112318                 2             Neil Gaiman   \n",
       "2  151420  8445071416                 4        J. R. R. Tolkien   \n",
       "3  229501  8445071416                 3        J. R. R. Tolkien   \n",
       "4   93755  8445071416                 4        J. R. R. Tolkien   \n",
       "\n",
       "   yearOfPublication  authorIDX  bookIDX  userIDX  \n",
       "0               1999          0        0        0  \n",
       "1               1997          1        1        1  \n",
       "2               1991          2        2        2  \n",
       "3               1991          2        2        3  \n",
       "4               1991          2        2        4  "
      ]
     },
     "execution_count": 21,
     "metadata": {},
     "output_type": "execute_result"
    }
   ],
   "source": [
    "filledEventsDataFrame.head()"
   ]
  },
  {
   "cell_type": "code",
   "execution_count": 22,
   "metadata": {},
   "outputs": [
    {
     "data": {
      "text/plain": [
       "(41048, 8)"
      ]
     },
     "execution_count": 22,
     "metadata": {},
     "output_type": "execute_result"
    }
   ],
   "source": [
    "filledEventsDataFrame.shape"
   ]
  },
  {
   "cell_type": "markdown",
   "metadata": {},
   "source": [
    "#### Ensure there are no nulls in the dataframe we will be using and save it (just in case) for offline inspection..."
   ]
  },
  {
   "cell_type": "code",
   "execution_count": 23,
   "metadata": {},
   "outputs": [
    {
     "data": {
      "text/html": [
       "<div>\n",
       "<style scoped>\n",
       "    .dataframe tbody tr th:only-of-type {\n",
       "        vertical-align: middle;\n",
       "    }\n",
       "\n",
       "    .dataframe tbody tr th {\n",
       "        vertical-align: top;\n",
       "    }\n",
       "\n",
       "    .dataframe thead th {\n",
       "        text-align: right;\n",
       "    }\n",
       "</style>\n",
       "<table border=\"1\" class=\"dataframe\">\n",
       "  <thead>\n",
       "    <tr style=\"text-align: right;\">\n",
       "      <th></th>\n",
       "      <th>userId</th>\n",
       "      <th>bookISBN</th>\n",
       "      <th>impressionRating</th>\n",
       "      <th>author</th>\n",
       "      <th>yearOfPublication</th>\n",
       "      <th>authorIDX</th>\n",
       "      <th>bookIDX</th>\n",
       "      <th>userIDX</th>\n",
       "    </tr>\n",
       "  </thead>\n",
       "  <tbody>\n",
       "  </tbody>\n",
       "</table>\n",
       "</div>"
      ],
      "text/plain": [
       "Empty DataFrame\n",
       "Columns: [userId, bookISBN, impressionRating, author, yearOfPublication, authorIDX, bookIDX, userIDX]\n",
       "Index: []"
      ]
     },
     "execution_count": 23,
     "metadata": {},
     "output_type": "execute_result"
    }
   ],
   "source": [
    "filledEventsDataFrame[filledEventsDataFrame.isnull().any(axis=1)]"
   ]
  },
  {
   "cell_type": "code",
   "execution_count": 24,
   "metadata": {},
   "outputs": [],
   "source": [
    "filledEventsDataFrame.to_csv(\"filledEventsDataFrame.csv\")"
   ]
  },
  {
   "cell_type": "markdown",
   "metadata": {},
   "source": [
    "#### Split the data into training and test sets..."
   ]
  },
  {
   "cell_type": "code",
   "execution_count": 25,
   "metadata": {
    "scrolled": true
   },
   "outputs": [],
   "source": [
    "# Do the split...\n",
    "trainDataFrame, testDataFrame = train_test_split(filledEventsDataFrame, test_size=TRAIN_SPLIT_RATIO)\n",
    "\n",
    "# Grab the actual impression to check the results later\n",
    "actualImpressionRatings = testDataFrame[\"impressionRating\"]"
   ]
  },
  {
   "cell_type": "code",
   "execution_count": 26,
   "metadata": {
    "scrolled": true
   },
   "outputs": [
    {
     "name": "stdout",
     "output_type": "stream",
     "text": [
      "(41048, 8)\n",
      "Number of users: 17252\n",
      "Number of books: 21128\n",
      "Matrix sparcity: 99.9887%\n"
     ]
    }
   ],
   "source": [
    "# dig into the data...\n",
    "numOfUsers = len(filledEventsDataFrame['userIDX'].unique())\n",
    "numOfBooks = len(filledEventsDataFrame['bookIDX'].unique())\n",
    "dataSparcity = 100.0 - (100.0 * len(filledEventsDataFrame) / (numOfUsers * numOfBooks))\n",
    "\n",
    "print(filledEventsDataFrame.shape)\n",
    "print(\"Number of users: \" + str(numOfUsers))\n",
    "print(\"Number of books: \" + str(numOfBooks))\n",
    "print(\"Matrix sparcity: {0:2.4f}%\".format(dataSparcity))"
   ]
  },
  {
   "cell_type": "markdown",
   "metadata": {},
   "source": [
    "#### Show a crosstab of the data..."
   ]
  },
  {
   "cell_type": "code",
   "execution_count": 27,
   "metadata": {},
   "outputs": [
    {
     "data": {
      "text/html": [
       "<div>\n",
       "<style scoped>\n",
       "    .dataframe tbody tr th:only-of-type {\n",
       "        vertical-align: middle;\n",
       "    }\n",
       "\n",
       "    .dataframe tbody tr th {\n",
       "        vertical-align: top;\n",
       "    }\n",
       "\n",
       "    .dataframe thead th {\n",
       "        text-align: right;\n",
       "    }\n",
       "</style>\n",
       "<table border=\"1\" class=\"dataframe\">\n",
       "  <thead>\n",
       "    <tr style=\"text-align: right;\">\n",
       "      <th>bookIDX</th>\n",
       "      <th>30</th>\n",
       "      <th>34</th>\n",
       "      <th>41</th>\n",
       "      <th>46</th>\n",
       "      <th>60</th>\n",
       "      <th>63</th>\n",
       "      <th>87</th>\n",
       "      <th>156</th>\n",
       "      <th>171</th>\n",
       "      <th>206</th>\n",
       "      <th>292</th>\n",
       "      <th>420</th>\n",
       "      <th>472</th>\n",
       "      <th>518</th>\n",
       "      <th>774</th>\n",
       "      <th>869</th>\n",
       "    </tr>\n",
       "    <tr>\n",
       "      <th>userIDX</th>\n",
       "      <th></th>\n",
       "      <th></th>\n",
       "      <th></th>\n",
       "      <th></th>\n",
       "      <th></th>\n",
       "      <th></th>\n",
       "      <th></th>\n",
       "      <th></th>\n",
       "      <th></th>\n",
       "      <th></th>\n",
       "      <th></th>\n",
       "      <th></th>\n",
       "      <th></th>\n",
       "      <th></th>\n",
       "      <th></th>\n",
       "      <th></th>\n",
       "    </tr>\n",
       "  </thead>\n",
       "  <tbody>\n",
       "    <tr>\n",
       "      <th>21</th>\n",
       "      <td>3.0</td>\n",
       "      <td>NaN</td>\n",
       "      <td>0.0</td>\n",
       "      <td>4.0</td>\n",
       "      <td>5.0</td>\n",
       "      <td>1.0</td>\n",
       "      <td>5.0</td>\n",
       "      <td>NaN</td>\n",
       "      <td>NaN</td>\n",
       "      <td>5.0</td>\n",
       "      <td>NaN</td>\n",
       "      <td>3.0</td>\n",
       "      <td>3.0</td>\n",
       "      <td>NaN</td>\n",
       "      <td>5.0</td>\n",
       "      <td>5.0</td>\n",
       "    </tr>\n",
       "    <tr>\n",
       "      <th>107</th>\n",
       "      <td>4.0</td>\n",
       "      <td>NaN</td>\n",
       "      <td>NaN</td>\n",
       "      <td>NaN</td>\n",
       "      <td>5.0</td>\n",
       "      <td>NaN</td>\n",
       "      <td>NaN</td>\n",
       "      <td>5.0</td>\n",
       "      <td>NaN</td>\n",
       "      <td>NaN</td>\n",
       "      <td>NaN</td>\n",
       "      <td>NaN</td>\n",
       "      <td>NaN</td>\n",
       "      <td>NaN</td>\n",
       "      <td>NaN</td>\n",
       "      <td>NaN</td>\n",
       "    </tr>\n",
       "    <tr>\n",
       "      <th>260</th>\n",
       "      <td>4.0</td>\n",
       "      <td>NaN</td>\n",
       "      <td>NaN</td>\n",
       "      <td>NaN</td>\n",
       "      <td>NaN</td>\n",
       "      <td>NaN</td>\n",
       "      <td>NaN</td>\n",
       "      <td>4.0</td>\n",
       "      <td>NaN</td>\n",
       "      <td>NaN</td>\n",
       "      <td>NaN</td>\n",
       "      <td>NaN</td>\n",
       "      <td>NaN</td>\n",
       "      <td>NaN</td>\n",
       "      <td>NaN</td>\n",
       "      <td>NaN</td>\n",
       "    </tr>\n",
       "    <tr>\n",
       "      <th>414</th>\n",
       "      <td>NaN</td>\n",
       "      <td>1.0</td>\n",
       "      <td>NaN</td>\n",
       "      <td>2.0</td>\n",
       "      <td>NaN</td>\n",
       "      <td>NaN</td>\n",
       "      <td>NaN</td>\n",
       "      <td>NaN</td>\n",
       "      <td>NaN</td>\n",
       "      <td>NaN</td>\n",
       "      <td>NaN</td>\n",
       "      <td>NaN</td>\n",
       "      <td>NaN</td>\n",
       "      <td>NaN</td>\n",
       "      <td>NaN</td>\n",
       "      <td>NaN</td>\n",
       "    </tr>\n",
       "    <tr>\n",
       "      <th>520</th>\n",
       "      <td>NaN</td>\n",
       "      <td>NaN</td>\n",
       "      <td>1.0</td>\n",
       "      <td>NaN</td>\n",
       "      <td>NaN</td>\n",
       "      <td>NaN</td>\n",
       "      <td>NaN</td>\n",
       "      <td>NaN</td>\n",
       "      <td>NaN</td>\n",
       "      <td>NaN</td>\n",
       "      <td>NaN</td>\n",
       "      <td>NaN</td>\n",
       "      <td>NaN</td>\n",
       "      <td>NaN</td>\n",
       "      <td>NaN</td>\n",
       "      <td>NaN</td>\n",
       "    </tr>\n",
       "    <tr>\n",
       "      <th>938</th>\n",
       "      <td>NaN</td>\n",
       "      <td>NaN</td>\n",
       "      <td>NaN</td>\n",
       "      <td>NaN</td>\n",
       "      <td>5.0</td>\n",
       "      <td>5.0</td>\n",
       "      <td>NaN</td>\n",
       "      <td>NaN</td>\n",
       "      <td>NaN</td>\n",
       "      <td>NaN</td>\n",
       "      <td>NaN</td>\n",
       "      <td>NaN</td>\n",
       "      <td>NaN</td>\n",
       "      <td>NaN</td>\n",
       "      <td>NaN</td>\n",
       "      <td>NaN</td>\n",
       "    </tr>\n",
       "    <tr>\n",
       "      <th>1156</th>\n",
       "      <td>NaN</td>\n",
       "      <td>NaN</td>\n",
       "      <td>NaN</td>\n",
       "      <td>NaN</td>\n",
       "      <td>5.0</td>\n",
       "      <td>NaN</td>\n",
       "      <td>NaN</td>\n",
       "      <td>5.0</td>\n",
       "      <td>5.0</td>\n",
       "      <td>NaN</td>\n",
       "      <td>NaN</td>\n",
       "      <td>5.0</td>\n",
       "      <td>NaN</td>\n",
       "      <td>NaN</td>\n",
       "      <td>4.0</td>\n",
       "      <td>5.0</td>\n",
       "    </tr>\n",
       "    <tr>\n",
       "      <th>1244</th>\n",
       "      <td>NaN</td>\n",
       "      <td>NaN</td>\n",
       "      <td>NaN</td>\n",
       "      <td>NaN</td>\n",
       "      <td>NaN</td>\n",
       "      <td>2.0</td>\n",
       "      <td>NaN</td>\n",
       "      <td>NaN</td>\n",
       "      <td>NaN</td>\n",
       "      <td>NaN</td>\n",
       "      <td>5.0</td>\n",
       "      <td>NaN</td>\n",
       "      <td>NaN</td>\n",
       "      <td>1.0</td>\n",
       "      <td>NaN</td>\n",
       "      <td>NaN</td>\n",
       "    </tr>\n",
       "    <tr>\n",
       "      <th>1348</th>\n",
       "      <td>NaN</td>\n",
       "      <td>NaN</td>\n",
       "      <td>NaN</td>\n",
       "      <td>NaN</td>\n",
       "      <td>NaN</td>\n",
       "      <td>NaN</td>\n",
       "      <td>NaN</td>\n",
       "      <td>NaN</td>\n",
       "      <td>NaN</td>\n",
       "      <td>NaN</td>\n",
       "      <td>NaN</td>\n",
       "      <td>NaN</td>\n",
       "      <td>NaN</td>\n",
       "      <td>NaN</td>\n",
       "      <td>NaN</td>\n",
       "      <td>4.0</td>\n",
       "    </tr>\n",
       "    <tr>\n",
       "      <th>3401</th>\n",
       "      <td>NaN</td>\n",
       "      <td>NaN</td>\n",
       "      <td>NaN</td>\n",
       "      <td>NaN</td>\n",
       "      <td>NaN</td>\n",
       "      <td>NaN</td>\n",
       "      <td>NaN</td>\n",
       "      <td>NaN</td>\n",
       "      <td>NaN</td>\n",
       "      <td>NaN</td>\n",
       "      <td>NaN</td>\n",
       "      <td>3.0</td>\n",
       "      <td>NaN</td>\n",
       "      <td>NaN</td>\n",
       "      <td>NaN</td>\n",
       "      <td>NaN</td>\n",
       "    </tr>\n",
       "    <tr>\n",
       "      <th>3887</th>\n",
       "      <td>NaN</td>\n",
       "      <td>NaN</td>\n",
       "      <td>NaN</td>\n",
       "      <td>NaN</td>\n",
       "      <td>NaN</td>\n",
       "      <td>NaN</td>\n",
       "      <td>NaN</td>\n",
       "      <td>NaN</td>\n",
       "      <td>NaN</td>\n",
       "      <td>NaN</td>\n",
       "      <td>NaN</td>\n",
       "      <td>NaN</td>\n",
       "      <td>2.0</td>\n",
       "      <td>2.0</td>\n",
       "      <td>NaN</td>\n",
       "      <td>NaN</td>\n",
       "    </tr>\n",
       "  </tbody>\n",
       "</table>\n",
       "</div>"
      ],
      "text/plain": [
       "bookIDX  30   34   41   46   60   63   87   156  171  206  292  420  472  518  \\\n",
       "userIDX                                                                         \n",
       "21       3.0  NaN  0.0  4.0  5.0  1.0  5.0  NaN  NaN  5.0  NaN  3.0  3.0  NaN   \n",
       "107      4.0  NaN  NaN  NaN  5.0  NaN  NaN  5.0  NaN  NaN  NaN  NaN  NaN  NaN   \n",
       "260      4.0  NaN  NaN  NaN  NaN  NaN  NaN  4.0  NaN  NaN  NaN  NaN  NaN  NaN   \n",
       "414      NaN  1.0  NaN  2.0  NaN  NaN  NaN  NaN  NaN  NaN  NaN  NaN  NaN  NaN   \n",
       "520      NaN  NaN  1.0  NaN  NaN  NaN  NaN  NaN  NaN  NaN  NaN  NaN  NaN  NaN   \n",
       "938      NaN  NaN  NaN  NaN  5.0  5.0  NaN  NaN  NaN  NaN  NaN  NaN  NaN  NaN   \n",
       "1156     NaN  NaN  NaN  NaN  5.0  NaN  NaN  5.0  5.0  NaN  NaN  5.0  NaN  NaN   \n",
       "1244     NaN  NaN  NaN  NaN  NaN  2.0  NaN  NaN  NaN  NaN  5.0  NaN  NaN  1.0   \n",
       "1348     NaN  NaN  NaN  NaN  NaN  NaN  NaN  NaN  NaN  NaN  NaN  NaN  NaN  NaN   \n",
       "3401     NaN  NaN  NaN  NaN  NaN  NaN  NaN  NaN  NaN  NaN  NaN  3.0  NaN  NaN   \n",
       "3887     NaN  NaN  NaN  NaN  NaN  NaN  NaN  NaN  NaN  NaN  NaN  NaN  2.0  2.0   \n",
       "\n",
       "bookIDX  774  869  \n",
       "userIDX            \n",
       "21       5.0  5.0  \n",
       "107      NaN  NaN  \n",
       "260      NaN  NaN  \n",
       "414      NaN  NaN  \n",
       "520      NaN  NaN  \n",
       "938      NaN  NaN  \n",
       "1156     4.0  5.0  \n",
       "1244     NaN  NaN  \n",
       "1348     NaN  4.0  \n",
       "3401     NaN  NaN  \n",
       "3887     NaN  NaN  "
      ]
     },
     "execution_count": 27,
     "metadata": {},
     "output_type": "execute_result"
    }
   ],
   "source": [
    "# Inspect the crosstab of the top users/books events (ratings)\n",
    "\n",
    "g = filledEventsDataFrame.groupby('userIDX')['impressionRating'].count()\n",
    "topUsers = g.sort_values(ascending=False)[:20]\n",
    "\n",
    "g = filledEventsDataFrame.groupby('bookIDX')['impressionRating'].count()\n",
    "topBooks = g.sort_values(ascending=False)[:20]\n",
    "\n",
    "topRatings = filledEventsDataFrame.join(topUsers, how='inner', rsuffix='r_', on='userIDX')\n",
    "topRatings = topRatings.join(topBooks, how='inner', rsuffix='r_', on='bookIDX')\n",
    "\n",
    "pd.crosstab(topRatings.userIDX, topRatings.bookIDX, topRatings.impressionRating, aggfunc=np.sum)"
   ]
  },
  {
   "cell_type": "markdown",
   "metadata": {},
   "source": [
    "#### Show the heads..."
   ]
  },
  {
   "cell_type": "code",
   "execution_count": 28,
   "metadata": {
    "scrolled": true
   },
   "outputs": [
    {
     "data": {
      "text/html": [
       "<div>\n",
       "<style scoped>\n",
       "    .dataframe tbody tr th:only-of-type {\n",
       "        vertical-align: middle;\n",
       "    }\n",
       "\n",
       "    .dataframe tbody tr th {\n",
       "        vertical-align: top;\n",
       "    }\n",
       "\n",
       "    .dataframe thead th {\n",
       "        text-align: right;\n",
       "    }\n",
       "</style>\n",
       "<table border=\"1\" class=\"dataframe\">\n",
       "  <thead>\n",
       "    <tr style=\"text-align: right;\">\n",
       "      <th></th>\n",
       "      <th>userId</th>\n",
       "      <th>bookISBN</th>\n",
       "      <th>impressionRating</th>\n",
       "      <th>author</th>\n",
       "      <th>yearOfPublication</th>\n",
       "      <th>authorIDX</th>\n",
       "      <th>bookIDX</th>\n",
       "      <th>userIDX</th>\n",
       "    </tr>\n",
       "  </thead>\n",
       "  <tbody>\n",
       "    <tr>\n",
       "      <th>26960</th>\n",
       "      <td>203820</td>\n",
       "      <td>8437607000</td>\n",
       "      <td>2</td>\n",
       "      <td>Fernando De Rojas</td>\n",
       "      <td>1990</td>\n",
       "      <td>6651</td>\n",
       "      <td>9027</td>\n",
       "      <td>108</td>\n",
       "    </tr>\n",
       "    <tr>\n",
       "      <th>4400</th>\n",
       "      <td>243930</td>\n",
       "      <td>067153615X</td>\n",
       "      <td>0</td>\n",
       "      <td>Larry McMurtry</td>\n",
       "      <td>1995</td>\n",
       "      <td>393</td>\n",
       "      <td>416</td>\n",
       "      <td>2071</td>\n",
       "    </tr>\n",
       "    <tr>\n",
       "      <th>41587</th>\n",
       "      <td>78761</td>\n",
       "      <td>3717515640</td>\n",
       "      <td>2</td>\n",
       "      <td>Edgar Allan Poe</td>\n",
       "      <td>1999</td>\n",
       "      <td>39</td>\n",
       "      <td>20533</td>\n",
       "      <td>2417</td>\n",
       "    </tr>\n",
       "    <tr>\n",
       "      <th>42030</th>\n",
       "      <td>150917</td>\n",
       "      <td>3821805870</td>\n",
       "      <td>3</td>\n",
       "      <td>Walter KrÌ?å_mer</td>\n",
       "      <td>1998</td>\n",
       "      <td>14103</td>\n",
       "      <td>20952</td>\n",
       "      <td>14466</td>\n",
       "    </tr>\n",
       "    <tr>\n",
       "      <th>14821</th>\n",
       "      <td>224944</td>\n",
       "      <td>067172570X</td>\n",
       "      <td>2</td>\n",
       "      <td>Spike Lee</td>\n",
       "      <td>1990</td>\n",
       "      <td>2440</td>\n",
       "      <td>2990</td>\n",
       "      <td>8888</td>\n",
       "    </tr>\n",
       "  </tbody>\n",
       "</table>\n",
       "</div>"
      ],
      "text/plain": [
       "       userId    bookISBN  impressionRating             author  \\\n",
       "26960  203820  8437607000                 2  Fernando De Rojas   \n",
       "4400   243930  067153615X                 0     Larry McMurtry   \n",
       "41587   78761  3717515640                 2    Edgar Allan Poe   \n",
       "42030  150917  3821805870                 3   Walter KrÌ?å_mer   \n",
       "14821  224944  067172570X                 2          Spike Lee   \n",
       "\n",
       "       yearOfPublication  authorIDX  bookIDX  userIDX  \n",
       "26960               1990       6651     9027      108  \n",
       "4400                1995        393      416     2071  \n",
       "41587               1999         39    20533     2417  \n",
       "42030               1998      14103    20952    14466  \n",
       "14821               1990       2440     2990     8888  "
      ]
     },
     "execution_count": 28,
     "metadata": {},
     "output_type": "execute_result"
    }
   ],
   "source": [
    "trainDataFrame.head()"
   ]
  },
  {
   "cell_type": "code",
   "execution_count": 29,
   "metadata": {},
   "outputs": [
    {
     "data": {
      "text/plain": [
       "(32838, 8)"
      ]
     },
     "execution_count": 29,
     "metadata": {},
     "output_type": "execute_result"
    }
   ],
   "source": [
    "trainDataFrame.shape"
   ]
  },
  {
   "cell_type": "code",
   "execution_count": 30,
   "metadata": {
    "scrolled": true
   },
   "outputs": [
    {
     "data": {
      "text/html": [
       "<div>\n",
       "<style scoped>\n",
       "    .dataframe tbody tr th:only-of-type {\n",
       "        vertical-align: middle;\n",
       "    }\n",
       "\n",
       "    .dataframe tbody tr th {\n",
       "        vertical-align: top;\n",
       "    }\n",
       "\n",
       "    .dataframe thead th {\n",
       "        text-align: right;\n",
       "    }\n",
       "</style>\n",
       "<table border=\"1\" class=\"dataframe\">\n",
       "  <thead>\n",
       "    <tr style=\"text-align: right;\">\n",
       "      <th></th>\n",
       "      <th>userId</th>\n",
       "      <th>bookISBN</th>\n",
       "      <th>impressionRating</th>\n",
       "      <th>author</th>\n",
       "      <th>yearOfPublication</th>\n",
       "      <th>authorIDX</th>\n",
       "      <th>bookIDX</th>\n",
       "      <th>userIDX</th>\n",
       "    </tr>\n",
       "  </thead>\n",
       "  <tbody>\n",
       "    <tr>\n",
       "      <th>16272</th>\n",
       "      <td>274808</td>\n",
       "      <td>059047877X</td>\n",
       "      <td>2</td>\n",
       "      <td>Caroline B. Cooney</td>\n",
       "      <td>1994</td>\n",
       "      <td>2880</td>\n",
       "      <td>3583</td>\n",
       "      <td>6610</td>\n",
       "    </tr>\n",
       "    <tr>\n",
       "      <th>40262</th>\n",
       "      <td>63714</td>\n",
       "      <td>1840240075</td>\n",
       "      <td>5</td>\n",
       "      <td>Michael Sheard</td>\n",
       "      <td>1997</td>\n",
       "      <td>12524</td>\n",
       "      <td>19294</td>\n",
       "      <td>1377</td>\n",
       "    </tr>\n",
       "    <tr>\n",
       "      <th>34162</th>\n",
       "      <td>211919</td>\n",
       "      <td>1582970009</td>\n",
       "      <td>2</td>\n",
       "      <td>L. Peat O'Neil</td>\n",
       "      <td>2000</td>\n",
       "      <td>9922</td>\n",
       "      <td>14087</td>\n",
       "      <td>8078</td>\n",
       "    </tr>\n",
       "    <tr>\n",
       "      <th>27333</th>\n",
       "      <td>11676</td>\n",
       "      <td>1551661764</td>\n",
       "      <td>3</td>\n",
       "      <td>Tess Gerritsen</td>\n",
       "      <td>1996</td>\n",
       "      <td>225</td>\n",
       "      <td>9234</td>\n",
       "      <td>21</td>\n",
       "    </tr>\n",
       "    <tr>\n",
       "      <th>32118</th>\n",
       "      <td>97324</td>\n",
       "      <td>1586420054</td>\n",
       "      <td>3</td>\n",
       "      <td>ALBERTO MORAVIA</td>\n",
       "      <td>2000</td>\n",
       "      <td>8925</td>\n",
       "      <td>12520</td>\n",
       "      <td>2791</td>\n",
       "    </tr>\n",
       "  </tbody>\n",
       "</table>\n",
       "</div>"
      ],
      "text/plain": [
       "       userId    bookISBN  impressionRating              author  \\\n",
       "16272  274808  059047877X                 2  Caroline B. Cooney   \n",
       "40262   63714  1840240075                 5      Michael Sheard   \n",
       "34162  211919  1582970009                 2      L. Peat O'Neil   \n",
       "27333   11676  1551661764                 3      Tess Gerritsen   \n",
       "32118   97324  1586420054                 3     ALBERTO MORAVIA   \n",
       "\n",
       "       yearOfPublication  authorIDX  bookIDX  userIDX  \n",
       "16272               1994       2880     3583     6610  \n",
       "40262               1997      12524    19294     1377  \n",
       "34162               2000       9922    14087     8078  \n",
       "27333               1996        225     9234       21  \n",
       "32118               2000       8925    12520     2791  "
      ]
     },
     "execution_count": 30,
     "metadata": {},
     "output_type": "execute_result"
    }
   ],
   "source": [
    "testDataFrame.head()"
   ]
  },
  {
   "cell_type": "code",
   "execution_count": 31,
   "metadata": {},
   "outputs": [
    {
     "data": {
      "text/plain": [
       "(8210, 8)"
      ]
     },
     "execution_count": 31,
     "metadata": {},
     "output_type": "execute_result"
    }
   ],
   "source": [
    "testDataFrame.shape"
   ]
  },
  {
   "cell_type": "code",
   "execution_count": 32,
   "metadata": {},
   "outputs": [
    {
     "data": {
      "text/plain": [
       "16272    2\n",
       "40262    5\n",
       "34162    2\n",
       "27333    3\n",
       "32118    3\n",
       "Name: impressionRating, dtype: int64"
      ]
     },
     "execution_count": 32,
     "metadata": {},
     "output_type": "execute_result"
    }
   ],
   "source": [
    "actualImpressionRatings.head()"
   ]
  },
  {
   "cell_type": "code",
   "execution_count": 33,
   "metadata": {},
   "outputs": [
    {
     "data": {
      "text/plain": [
       "(8210,)"
      ]
     },
     "execution_count": 33,
     "metadata": {},
     "output_type": "execute_result"
    }
   ],
   "source": [
    "actualImpressionRatings.shape"
   ]
  },
  {
   "cell_type": "code",
   "execution_count": 34,
   "metadata": {
    "scrolled": false
   },
   "outputs": [
    {
     "data": {
      "text/html": [
       "<div>\n",
       "<style scoped>\n",
       "    .dataframe tbody tr th:only-of-type {\n",
       "        vertical-align: middle;\n",
       "    }\n",
       "\n",
       "    .dataframe tbody tr th {\n",
       "        vertical-align: top;\n",
       "    }\n",
       "\n",
       "    .dataframe thead th {\n",
       "        text-align: right;\n",
       "    }\n",
       "</style>\n",
       "<table border=\"1\" class=\"dataframe\">\n",
       "  <thead>\n",
       "    <tr style=\"text-align: right;\">\n",
       "      <th></th>\n",
       "      <th>userId</th>\n",
       "      <th>bookISBN</th>\n",
       "      <th>impressionRating</th>\n",
       "      <th>author</th>\n",
       "      <th>yearOfPublication</th>\n",
       "      <th>authorIDX</th>\n",
       "      <th>bookIDX</th>\n",
       "      <th>userIDX</th>\n",
       "    </tr>\n",
       "  </thead>\n",
       "  <tbody>\n",
       "    <tr>\n",
       "      <th>0</th>\n",
       "      <td>850</td>\n",
       "      <td>3426616262</td>\n",
       "      <td>2</td>\n",
       "      <td>Alexander Solschenizyn</td>\n",
       "      <td>1999</td>\n",
       "      <td>0</td>\n",
       "      <td>0</td>\n",
       "      <td>0</td>\n",
       "    </tr>\n",
       "    <tr>\n",
       "      <th>1</th>\n",
       "      <td>177458</td>\n",
       "      <td>1565112318</td>\n",
       "      <td>2</td>\n",
       "      <td>Neil Gaiman</td>\n",
       "      <td>1997</td>\n",
       "      <td>1</td>\n",
       "      <td>1</td>\n",
       "      <td>1</td>\n",
       "    </tr>\n",
       "    <tr>\n",
       "      <th>2</th>\n",
       "      <td>151420</td>\n",
       "      <td>8445071416</td>\n",
       "      <td>4</td>\n",
       "      <td>J. R. R. Tolkien</td>\n",
       "      <td>1991</td>\n",
       "      <td>2</td>\n",
       "      <td>2</td>\n",
       "      <td>2</td>\n",
       "    </tr>\n",
       "    <tr>\n",
       "      <th>3</th>\n",
       "      <td>229501</td>\n",
       "      <td>8445071416</td>\n",
       "      <td>3</td>\n",
       "      <td>J. R. R. Tolkien</td>\n",
       "      <td>1991</td>\n",
       "      <td>2</td>\n",
       "      <td>2</td>\n",
       "      <td>3</td>\n",
       "    </tr>\n",
       "    <tr>\n",
       "      <th>4</th>\n",
       "      <td>93755</td>\n",
       "      <td>8445071416</td>\n",
       "      <td>4</td>\n",
       "      <td>J. R. R. Tolkien</td>\n",
       "      <td>1991</td>\n",
       "      <td>2</td>\n",
       "      <td>2</td>\n",
       "      <td>4</td>\n",
       "    </tr>\n",
       "  </tbody>\n",
       "</table>\n",
       "</div>"
      ],
      "text/plain": [
       "   userId    bookISBN  impressionRating                  author  \\\n",
       "0     850  3426616262                 2  Alexander Solschenizyn   \n",
       "1  177458  1565112318                 2             Neil Gaiman   \n",
       "2  151420  8445071416                 4        J. R. R. Tolkien   \n",
       "3  229501  8445071416                 3        J. R. R. Tolkien   \n",
       "4   93755  8445071416                 4        J. R. R. Tolkien   \n",
       "\n",
       "   yearOfPublication  authorIDX  bookIDX  userIDX  \n",
       "0               1999          0        0        0  \n",
       "1               1997          1        1        1  \n",
       "2               1991          2        2        2  \n",
       "3               1991          2        2        3  \n",
       "4               1991          2        2        4  "
      ]
     },
     "execution_count": 34,
     "metadata": {},
     "output_type": "execute_result"
    }
   ],
   "source": [
    "filledEventsDataFrame.head()"
   ]
  },
  {
   "cell_type": "markdown",
   "metadata": {},
   "source": [
    "# The models"
   ]
  },
  {
   "cell_type": "markdown",
   "metadata": {},
   "source": [
    "#### ---------Matrix Multiplication - SVD Implementation (No Optimization)--------------\n",
    "\n"
   ]
  },
  {
   "cell_type": "code",
   "execution_count": 35,
   "metadata": {},
   "outputs": [],
   "source": [
    "# Build the full ratings dataframe\n",
    "R_DataFrame = filledEventsDataFrame.pivot(index = 'userIDX', \n",
    "                                          columns ='bookIDX', \n",
    "                                          values = 'impressionRating').fillna(0)"
   ]
  },
  {
   "cell_type": "code",
   "execution_count": 36,
   "metadata": {
    "scrolled": true
   },
   "outputs": [
    {
     "data": {
      "text/html": [
       "<div>\n",
       "<style scoped>\n",
       "    .dataframe tbody tr th:only-of-type {\n",
       "        vertical-align: middle;\n",
       "    }\n",
       "\n",
       "    .dataframe tbody tr th {\n",
       "        vertical-align: top;\n",
       "    }\n",
       "\n",
       "    .dataframe thead th {\n",
       "        text-align: right;\n",
       "    }\n",
       "</style>\n",
       "<table border=\"1\" class=\"dataframe\">\n",
       "  <thead>\n",
       "    <tr style=\"text-align: right;\">\n",
       "      <th>bookIDX</th>\n",
       "      <th>0</th>\n",
       "      <th>1</th>\n",
       "      <th>2</th>\n",
       "      <th>3</th>\n",
       "      <th>4</th>\n",
       "      <th>5</th>\n",
       "      <th>6</th>\n",
       "      <th>7</th>\n",
       "      <th>8</th>\n",
       "      <th>9</th>\n",
       "      <th>...</th>\n",
       "      <th>21118</th>\n",
       "      <th>21119</th>\n",
       "      <th>21120</th>\n",
       "      <th>21121</th>\n",
       "      <th>21122</th>\n",
       "      <th>21123</th>\n",
       "      <th>21124</th>\n",
       "      <th>21125</th>\n",
       "      <th>21126</th>\n",
       "      <th>21127</th>\n",
       "    </tr>\n",
       "    <tr>\n",
       "      <th>userIDX</th>\n",
       "      <th></th>\n",
       "      <th></th>\n",
       "      <th></th>\n",
       "      <th></th>\n",
       "      <th></th>\n",
       "      <th></th>\n",
       "      <th></th>\n",
       "      <th></th>\n",
       "      <th></th>\n",
       "      <th></th>\n",
       "      <th></th>\n",
       "      <th></th>\n",
       "      <th></th>\n",
       "      <th></th>\n",
       "      <th></th>\n",
       "      <th></th>\n",
       "      <th></th>\n",
       "      <th></th>\n",
       "      <th></th>\n",
       "      <th></th>\n",
       "      <th></th>\n",
       "    </tr>\n",
       "  </thead>\n",
       "  <tbody>\n",
       "    <tr>\n",
       "      <th>0</th>\n",
       "      <td>2.0</td>\n",
       "      <td>0.0</td>\n",
       "      <td>0.0</td>\n",
       "      <td>0.0</td>\n",
       "      <td>0.0</td>\n",
       "      <td>0.0</td>\n",
       "      <td>0.0</td>\n",
       "      <td>0.0</td>\n",
       "      <td>0.0</td>\n",
       "      <td>0.0</td>\n",
       "      <td>...</td>\n",
       "      <td>0.0</td>\n",
       "      <td>0.0</td>\n",
       "      <td>0.0</td>\n",
       "      <td>0.0</td>\n",
       "      <td>0.0</td>\n",
       "      <td>0.0</td>\n",
       "      <td>0.0</td>\n",
       "      <td>0.0</td>\n",
       "      <td>0.0</td>\n",
       "      <td>0.0</td>\n",
       "    </tr>\n",
       "    <tr>\n",
       "      <th>1</th>\n",
       "      <td>0.0</td>\n",
       "      <td>2.0</td>\n",
       "      <td>0.0</td>\n",
       "      <td>0.0</td>\n",
       "      <td>0.0</td>\n",
       "      <td>0.0</td>\n",
       "      <td>0.0</td>\n",
       "      <td>0.0</td>\n",
       "      <td>0.0</td>\n",
       "      <td>0.0</td>\n",
       "      <td>...</td>\n",
       "      <td>0.0</td>\n",
       "      <td>0.0</td>\n",
       "      <td>0.0</td>\n",
       "      <td>0.0</td>\n",
       "      <td>0.0</td>\n",
       "      <td>0.0</td>\n",
       "      <td>0.0</td>\n",
       "      <td>0.0</td>\n",
       "      <td>0.0</td>\n",
       "      <td>0.0</td>\n",
       "    </tr>\n",
       "    <tr>\n",
       "      <th>2</th>\n",
       "      <td>0.0</td>\n",
       "      <td>0.0</td>\n",
       "      <td>4.0</td>\n",
       "      <td>0.0</td>\n",
       "      <td>0.0</td>\n",
       "      <td>0.0</td>\n",
       "      <td>0.0</td>\n",
       "      <td>0.0</td>\n",
       "      <td>0.0</td>\n",
       "      <td>0.0</td>\n",
       "      <td>...</td>\n",
       "      <td>0.0</td>\n",
       "      <td>0.0</td>\n",
       "      <td>0.0</td>\n",
       "      <td>0.0</td>\n",
       "      <td>0.0</td>\n",
       "      <td>0.0</td>\n",
       "      <td>0.0</td>\n",
       "      <td>0.0</td>\n",
       "      <td>0.0</td>\n",
       "      <td>0.0</td>\n",
       "    </tr>\n",
       "    <tr>\n",
       "      <th>3</th>\n",
       "      <td>0.0</td>\n",
       "      <td>0.0</td>\n",
       "      <td>3.0</td>\n",
       "      <td>0.0</td>\n",
       "      <td>0.0</td>\n",
       "      <td>0.0</td>\n",
       "      <td>0.0</td>\n",
       "      <td>0.0</td>\n",
       "      <td>0.0</td>\n",
       "      <td>0.0</td>\n",
       "      <td>...</td>\n",
       "      <td>0.0</td>\n",
       "      <td>0.0</td>\n",
       "      <td>0.0</td>\n",
       "      <td>0.0</td>\n",
       "      <td>0.0</td>\n",
       "      <td>0.0</td>\n",
       "      <td>0.0</td>\n",
       "      <td>0.0</td>\n",
       "      <td>0.0</td>\n",
       "      <td>0.0</td>\n",
       "    </tr>\n",
       "    <tr>\n",
       "      <th>4</th>\n",
       "      <td>0.0</td>\n",
       "      <td>0.0</td>\n",
       "      <td>4.0</td>\n",
       "      <td>0.0</td>\n",
       "      <td>0.0</td>\n",
       "      <td>0.0</td>\n",
       "      <td>0.0</td>\n",
       "      <td>0.0</td>\n",
       "      <td>0.0</td>\n",
       "      <td>0.0</td>\n",
       "      <td>...</td>\n",
       "      <td>0.0</td>\n",
       "      <td>0.0</td>\n",
       "      <td>0.0</td>\n",
       "      <td>0.0</td>\n",
       "      <td>0.0</td>\n",
       "      <td>0.0</td>\n",
       "      <td>0.0</td>\n",
       "      <td>0.0</td>\n",
       "      <td>0.0</td>\n",
       "      <td>0.0</td>\n",
       "    </tr>\n",
       "  </tbody>\n",
       "</table>\n",
       "<p>5 rows × 21128 columns</p>\n",
       "</div>"
      ],
      "text/plain": [
       "bookIDX  0      1      2      3      4      5      6      7      8      9      \\\n",
       "userIDX                                                                         \n",
       "0          2.0    0.0    0.0    0.0    0.0    0.0    0.0    0.0    0.0    0.0   \n",
       "1          0.0    2.0    0.0    0.0    0.0    0.0    0.0    0.0    0.0    0.0   \n",
       "2          0.0    0.0    4.0    0.0    0.0    0.0    0.0    0.0    0.0    0.0   \n",
       "3          0.0    0.0    3.0    0.0    0.0    0.0    0.0    0.0    0.0    0.0   \n",
       "4          0.0    0.0    4.0    0.0    0.0    0.0    0.0    0.0    0.0    0.0   \n",
       "\n",
       "bookIDX  ...    21118  21119  21120  21121  21122  21123  21124  21125  21126  \\\n",
       "userIDX  ...                                                                    \n",
       "0        ...      0.0    0.0    0.0    0.0    0.0    0.0    0.0    0.0    0.0   \n",
       "1        ...      0.0    0.0    0.0    0.0    0.0    0.0    0.0    0.0    0.0   \n",
       "2        ...      0.0    0.0    0.0    0.0    0.0    0.0    0.0    0.0    0.0   \n",
       "3        ...      0.0    0.0    0.0    0.0    0.0    0.0    0.0    0.0    0.0   \n",
       "4        ...      0.0    0.0    0.0    0.0    0.0    0.0    0.0    0.0    0.0   \n",
       "\n",
       "bookIDX  21127  \n",
       "userIDX         \n",
       "0          0.0  \n",
       "1          0.0  \n",
       "2          0.0  \n",
       "3          0.0  \n",
       "4          0.0  \n",
       "\n",
       "[5 rows x 21128 columns]"
      ]
     },
     "execution_count": 36,
     "metadata": {},
     "output_type": "execute_result"
    }
   ],
   "source": [
    "R_DataFrame.head()"
   ]
  },
  {
   "cell_type": "code",
   "execution_count": 37,
   "metadata": {},
   "outputs": [
    {
     "data": {
      "text/plain": [
       "(17252, 21128)"
      ]
     },
     "execution_count": 37,
     "metadata": {},
     "output_type": "execute_result"
    }
   ],
   "source": [
    "R_DataFrame.shape"
   ]
  },
  {
   "cell_type": "code",
   "execution_count": 53,
   "metadata": {
    "scrolled": true
   },
   "outputs": [],
   "source": [
    "# Convert it to a matrix (array)\n",
    "R_Matrix = R_DataFrame.values"
   ]
  },
  {
   "cell_type": "code",
   "execution_count": 67,
   "metadata": {
    "scrolled": true
   },
   "outputs": [
    {
     "data": {
      "text/plain": [
       "array([[2., 0., 0., ..., 0., 0., 0.],\n",
       "       [0., 2., 0., ..., 0., 0., 0.],\n",
       "       [0., 0., 4., ..., 0., 0., 0.],\n",
       "       ...,\n",
       "       [0., 0., 0., ..., 0., 0., 0.],\n",
       "       [0., 0., 0., ..., 0., 0., 0.],\n",
       "       [0., 0., 0., ..., 0., 0., 0.]])"
      ]
     },
     "execution_count": 67,
     "metadata": {},
     "output_type": "execute_result"
    }
   ],
   "source": [
    "R_Matrix"
   ]
  },
  {
   "cell_type": "code",
   "execution_count": 57,
   "metadata": {},
   "outputs": [],
   "source": [
    "# TODO: Optimize  'k'\n",
    "\n",
    "# Ideally, we could optimize svds by creating a training and validation set to find the best 'k'\n",
    "# by automatically minimizing the resulting RMSE."
   ]
  },
  {
   "cell_type": "code",
   "execution_count": 58,
   "metadata": {},
   "outputs": [],
   "source": [
    "# TODO: Assess adding a bias"
   ]
  },
  {
   "cell_type": "code",
   "execution_count": 59,
   "metadata": {},
   "outputs": [],
   "source": [
    "# In the interest of time, this is not done here. Instead, I checked the outside temperature and\n",
    "# I picked k=20"
   ]
  },
  {
   "cell_type": "code",
   "execution_count": 78,
   "metadata": {},
   "outputs": [],
   "source": [
    "# Crunch and factorize by calling on scipy...\n",
    "U, sigma, Vt = svds(R_Matrix, SVDS_k)"
   ]
  },
  {
   "cell_type": "code",
   "execution_count": 79,
   "metadata": {
    "scrolled": true
   },
   "outputs": [],
   "source": [
    "# Convert sigma into a diag matrix to be used for predictions\n",
    "sigma = np.diag(sigma)"
   ]
  },
  {
   "cell_type": "code",
   "execution_count": 80,
   "metadata": {},
   "outputs": [],
   "source": [
    "# Recreate the ratings by multiplying the 3 matrices...\n",
    "# allPredictedRatings = np.dot(np.dot(U, sigma), Vt) + meanUserRatings.reshape(-1, 1)\n",
    "allPredictedRatings = np.dot(np.dot(U, sigma), Vt)"
   ]
  },
  {
   "cell_type": "code",
   "execution_count": 81,
   "metadata": {},
   "outputs": [],
   "source": [
    "# Format into a dataframe and add column names\n",
    "allPredictedRatingsDataFrame = pd.DataFrame(allPredictedRatings, columns = R_DataFrame.columns)"
   ]
  },
  {
   "cell_type": "code",
   "execution_count": 82,
   "metadata": {
    "scrolled": false
   },
   "outputs": [
    {
     "data": {
      "text/html": [
       "<div>\n",
       "<style scoped>\n",
       "    .dataframe tbody tr th:only-of-type {\n",
       "        vertical-align: middle;\n",
       "    }\n",
       "\n",
       "    .dataframe tbody tr th {\n",
       "        vertical-align: top;\n",
       "    }\n",
       "\n",
       "    .dataframe thead th {\n",
       "        text-align: right;\n",
       "    }\n",
       "</style>\n",
       "<table border=\"1\" class=\"dataframe\">\n",
       "  <thead>\n",
       "    <tr style=\"text-align: right;\">\n",
       "      <th>bookIDX</th>\n",
       "      <th>0</th>\n",
       "      <th>1</th>\n",
       "      <th>2</th>\n",
       "      <th>3</th>\n",
       "      <th>4</th>\n",
       "      <th>5</th>\n",
       "      <th>6</th>\n",
       "      <th>7</th>\n",
       "      <th>8</th>\n",
       "      <th>9</th>\n",
       "      <th>...</th>\n",
       "      <th>21118</th>\n",
       "      <th>21119</th>\n",
       "      <th>21120</th>\n",
       "      <th>21121</th>\n",
       "      <th>21122</th>\n",
       "      <th>21123</th>\n",
       "      <th>21124</th>\n",
       "      <th>21125</th>\n",
       "      <th>21126</th>\n",
       "      <th>21127</th>\n",
       "    </tr>\n",
       "  </thead>\n",
       "  <tbody>\n",
       "    <tr>\n",
       "      <th>0</th>\n",
       "      <td>4.306365e-12</td>\n",
       "      <td>2.832825e-09</td>\n",
       "      <td>-7.648235e-08</td>\n",
       "      <td>-9.876823e-08</td>\n",
       "      <td>4.830706e-07</td>\n",
       "      <td>9.174246e-25</td>\n",
       "      <td>6.810681e-07</td>\n",
       "      <td>5.760333e-10</td>\n",
       "      <td>-3.551928e-12</td>\n",
       "      <td>-1.005191e-07</td>\n",
       "      <td>...</td>\n",
       "      <td>-2.200804e-24</td>\n",
       "      <td>6.776032e-26</td>\n",
       "      <td>4.148533e-12</td>\n",
       "      <td>3.752099e-25</td>\n",
       "      <td>1.133903e-09</td>\n",
       "      <td>3.049285e-09</td>\n",
       "      <td>-6.172012e-24</td>\n",
       "      <td>-8.500658e-12</td>\n",
       "      <td>3.632931e-09</td>\n",
       "      <td>-1.832396e-07</td>\n",
       "    </tr>\n",
       "    <tr>\n",
       "      <th>1</th>\n",
       "      <td>2.832825e-09</td>\n",
       "      <td>1.349648e-05</td>\n",
       "      <td>1.535091e-04</td>\n",
       "      <td>1.725729e-04</td>\n",
       "      <td>4.028045e-03</td>\n",
       "      <td>-3.470988e-21</td>\n",
       "      <td>7.621661e-04</td>\n",
       "      <td>4.243305e-07</td>\n",
       "      <td>4.588225e-09</td>\n",
       "      <td>3.075493e-04</td>\n",
       "      <td>...</td>\n",
       "      <td>3.942444e-21</td>\n",
       "      <td>3.421115e-21</td>\n",
       "      <td>3.147944e-08</td>\n",
       "      <td>-3.204630e-21</td>\n",
       "      <td>1.787481e-05</td>\n",
       "      <td>1.847411e-05</td>\n",
       "      <td>5.071039e-21</td>\n",
       "      <td>8.368714e-08</td>\n",
       "      <td>9.331402e-05</td>\n",
       "      <td>-5.540848e-04</td>\n",
       "    </tr>\n",
       "    <tr>\n",
       "      <th>2</th>\n",
       "      <td>2.364620e-11</td>\n",
       "      <td>6.322654e-07</td>\n",
       "      <td>3.433917e-05</td>\n",
       "      <td>4.033372e-05</td>\n",
       "      <td>4.239208e-06</td>\n",
       "      <td>-9.146716e-22</td>\n",
       "      <td>9.331066e-05</td>\n",
       "      <td>2.606000e-08</td>\n",
       "      <td>1.233809e-09</td>\n",
       "      <td>5.640192e-05</td>\n",
       "      <td>...</td>\n",
       "      <td>1.687256e-21</td>\n",
       "      <td>4.304113e-22</td>\n",
       "      <td>4.814888e-10</td>\n",
       "      <td>-7.162019e-22</td>\n",
       "      <td>6.661953e-07</td>\n",
       "      <td>4.007095e-07</td>\n",
       "      <td>3.213014e-21</td>\n",
       "      <td>1.791939e-08</td>\n",
       "      <td>8.667221e-06</td>\n",
       "      <td>-2.739575e-05</td>\n",
       "    </tr>\n",
       "    <tr>\n",
       "      <th>3</th>\n",
       "      <td>-2.274362e-10</td>\n",
       "      <td>4.655321e-07</td>\n",
       "      <td>3.188096e-05</td>\n",
       "      <td>3.786711e-05</td>\n",
       "      <td>2.894191e-05</td>\n",
       "      <td>-7.817741e-22</td>\n",
       "      <td>3.222135e-05</td>\n",
       "      <td>-1.388779e-08</td>\n",
       "      <td>1.182792e-09</td>\n",
       "      <td>5.142231e-05</td>\n",
       "      <td>...</td>\n",
       "      <td>1.440632e-21</td>\n",
       "      <td>3.607813e-22</td>\n",
       "      <td>5.040030e-10</td>\n",
       "      <td>-5.959344e-22</td>\n",
       "      <td>6.507665e-07</td>\n",
       "      <td>3.546505e-07</td>\n",
       "      <td>2.865431e-21</td>\n",
       "      <td>1.454149e-08</td>\n",
       "      <td>7.311791e-06</td>\n",
       "      <td>-2.197356e-05</td>\n",
       "    </tr>\n",
       "    <tr>\n",
       "      <th>4</th>\n",
       "      <td>-2.436365e-10</td>\n",
       "      <td>3.752889e-07</td>\n",
       "      <td>3.157694e-05</td>\n",
       "      <td>3.737878e-05</td>\n",
       "      <td>-1.308001e-05</td>\n",
       "      <td>-8.712824e-22</td>\n",
       "      <td>2.891979e-05</td>\n",
       "      <td>-1.711829e-08</td>\n",
       "      <td>1.171272e-09</td>\n",
       "      <td>5.015856e-05</td>\n",
       "      <td>...</td>\n",
       "      <td>1.574885e-21</td>\n",
       "      <td>4.148398e-22</td>\n",
       "      <td>1.336553e-10</td>\n",
       "      <td>-6.588074e-22</td>\n",
       "      <td>5.065362e-07</td>\n",
       "      <td>1.930881e-07</td>\n",
       "      <td>3.155520e-21</td>\n",
       "      <td>1.423407e-08</td>\n",
       "      <td>6.736462e-06</td>\n",
       "      <td>-1.397360e-05</td>\n",
       "    </tr>\n",
       "  </tbody>\n",
       "</table>\n",
       "<p>5 rows × 21128 columns</p>\n",
       "</div>"
      ],
      "text/plain": [
       "bookIDX         0             1             2             3             4      \\\n",
       "0        4.306365e-12  2.832825e-09 -7.648235e-08 -9.876823e-08  4.830706e-07   \n",
       "1        2.832825e-09  1.349648e-05  1.535091e-04  1.725729e-04  4.028045e-03   \n",
       "2        2.364620e-11  6.322654e-07  3.433917e-05  4.033372e-05  4.239208e-06   \n",
       "3       -2.274362e-10  4.655321e-07  3.188096e-05  3.786711e-05  2.894191e-05   \n",
       "4       -2.436365e-10  3.752889e-07  3.157694e-05  3.737878e-05 -1.308001e-05   \n",
       "\n",
       "bookIDX         5             6             7             8             9      \\\n",
       "0        9.174246e-25  6.810681e-07  5.760333e-10 -3.551928e-12 -1.005191e-07   \n",
       "1       -3.470988e-21  7.621661e-04  4.243305e-07  4.588225e-09  3.075493e-04   \n",
       "2       -9.146716e-22  9.331066e-05  2.606000e-08  1.233809e-09  5.640192e-05   \n",
       "3       -7.817741e-22  3.222135e-05 -1.388779e-08  1.182792e-09  5.142231e-05   \n",
       "4       -8.712824e-22  2.891979e-05 -1.711829e-08  1.171272e-09  5.015856e-05   \n",
       "\n",
       "bookIDX      ...              21118         21119         21120         21121  \\\n",
       "0            ...      -2.200804e-24  6.776032e-26  4.148533e-12  3.752099e-25   \n",
       "1            ...       3.942444e-21  3.421115e-21  3.147944e-08 -3.204630e-21   \n",
       "2            ...       1.687256e-21  4.304113e-22  4.814888e-10 -7.162019e-22   \n",
       "3            ...       1.440632e-21  3.607813e-22  5.040030e-10 -5.959344e-22   \n",
       "4            ...       1.574885e-21  4.148398e-22  1.336553e-10 -6.588074e-22   \n",
       "\n",
       "bookIDX         21122         21123         21124         21125         21126  \\\n",
       "0        1.133903e-09  3.049285e-09 -6.172012e-24 -8.500658e-12  3.632931e-09   \n",
       "1        1.787481e-05  1.847411e-05  5.071039e-21  8.368714e-08  9.331402e-05   \n",
       "2        6.661953e-07  4.007095e-07  3.213014e-21  1.791939e-08  8.667221e-06   \n",
       "3        6.507665e-07  3.546505e-07  2.865431e-21  1.454149e-08  7.311791e-06   \n",
       "4        5.065362e-07  1.930881e-07  3.155520e-21  1.423407e-08  6.736462e-06   \n",
       "\n",
       "bookIDX         21127  \n",
       "0       -1.832396e-07  \n",
       "1       -5.540848e-04  \n",
       "2       -2.739575e-05  \n",
       "3       -2.197356e-05  \n",
       "4       -1.397360e-05  \n",
       "\n",
       "[5 rows x 21128 columns]"
      ]
     },
     "execution_count": 82,
     "metadata": {},
     "output_type": "execute_result"
    }
   ],
   "source": [
    "allPredictedRatingsDataFrame.head()"
   ]
  },
  {
   "cell_type": "code",
   "execution_count": 66,
   "metadata": {},
   "outputs": [
    {
     "data": {
      "text/html": [
       "<div>\n",
       "<style scoped>\n",
       "    .dataframe tbody tr th:only-of-type {\n",
       "        vertical-align: middle;\n",
       "    }\n",
       "\n",
       "    .dataframe tbody tr th {\n",
       "        vertical-align: top;\n",
       "    }\n",
       "\n",
       "    .dataframe thead th {\n",
       "        text-align: right;\n",
       "    }\n",
       "</style>\n",
       "<table border=\"1\" class=\"dataframe\">\n",
       "  <thead>\n",
       "    <tr style=\"text-align: right;\">\n",
       "      <th>bookIDX</th>\n",
       "      <th>0</th>\n",
       "      <th>1</th>\n",
       "      <th>2</th>\n",
       "      <th>3</th>\n",
       "      <th>4</th>\n",
       "      <th>5</th>\n",
       "      <th>6</th>\n",
       "      <th>7</th>\n",
       "      <th>8</th>\n",
       "      <th>9</th>\n",
       "      <th>...</th>\n",
       "      <th>21118</th>\n",
       "      <th>21119</th>\n",
       "      <th>21120</th>\n",
       "      <th>21121</th>\n",
       "      <th>21122</th>\n",
       "      <th>21123</th>\n",
       "      <th>21124</th>\n",
       "      <th>21125</th>\n",
       "      <th>21126</th>\n",
       "      <th>21127</th>\n",
       "    </tr>\n",
       "    <tr>\n",
       "      <th>userIDX</th>\n",
       "      <th></th>\n",
       "      <th></th>\n",
       "      <th></th>\n",
       "      <th></th>\n",
       "      <th></th>\n",
       "      <th></th>\n",
       "      <th></th>\n",
       "      <th></th>\n",
       "      <th></th>\n",
       "      <th></th>\n",
       "      <th></th>\n",
       "      <th></th>\n",
       "      <th></th>\n",
       "      <th></th>\n",
       "      <th></th>\n",
       "      <th></th>\n",
       "      <th></th>\n",
       "      <th></th>\n",
       "      <th></th>\n",
       "      <th></th>\n",
       "      <th></th>\n",
       "    </tr>\n",
       "  </thead>\n",
       "  <tbody>\n",
       "    <tr>\n",
       "      <th>0</th>\n",
       "      <td>2.0</td>\n",
       "      <td>0.0</td>\n",
       "      <td>0.0</td>\n",
       "      <td>0.0</td>\n",
       "      <td>0.0</td>\n",
       "      <td>0.0</td>\n",
       "      <td>0.0</td>\n",
       "      <td>0.0</td>\n",
       "      <td>0.0</td>\n",
       "      <td>0.0</td>\n",
       "      <td>...</td>\n",
       "      <td>0.0</td>\n",
       "      <td>0.0</td>\n",
       "      <td>0.0</td>\n",
       "      <td>0.0</td>\n",
       "      <td>0.0</td>\n",
       "      <td>0.0</td>\n",
       "      <td>0.0</td>\n",
       "      <td>0.0</td>\n",
       "      <td>0.0</td>\n",
       "      <td>0.0</td>\n",
       "    </tr>\n",
       "    <tr>\n",
       "      <th>1</th>\n",
       "      <td>0.0</td>\n",
       "      <td>2.0</td>\n",
       "      <td>0.0</td>\n",
       "      <td>0.0</td>\n",
       "      <td>0.0</td>\n",
       "      <td>0.0</td>\n",
       "      <td>0.0</td>\n",
       "      <td>0.0</td>\n",
       "      <td>0.0</td>\n",
       "      <td>0.0</td>\n",
       "      <td>...</td>\n",
       "      <td>0.0</td>\n",
       "      <td>0.0</td>\n",
       "      <td>0.0</td>\n",
       "      <td>0.0</td>\n",
       "      <td>0.0</td>\n",
       "      <td>0.0</td>\n",
       "      <td>0.0</td>\n",
       "      <td>0.0</td>\n",
       "      <td>0.0</td>\n",
       "      <td>0.0</td>\n",
       "    </tr>\n",
       "    <tr>\n",
       "      <th>2</th>\n",
       "      <td>0.0</td>\n",
       "      <td>0.0</td>\n",
       "      <td>4.0</td>\n",
       "      <td>0.0</td>\n",
       "      <td>0.0</td>\n",
       "      <td>0.0</td>\n",
       "      <td>0.0</td>\n",
       "      <td>0.0</td>\n",
       "      <td>0.0</td>\n",
       "      <td>0.0</td>\n",
       "      <td>...</td>\n",
       "      <td>0.0</td>\n",
       "      <td>0.0</td>\n",
       "      <td>0.0</td>\n",
       "      <td>0.0</td>\n",
       "      <td>0.0</td>\n",
       "      <td>0.0</td>\n",
       "      <td>0.0</td>\n",
       "      <td>0.0</td>\n",
       "      <td>0.0</td>\n",
       "      <td>0.0</td>\n",
       "    </tr>\n",
       "    <tr>\n",
       "      <th>3</th>\n",
       "      <td>0.0</td>\n",
       "      <td>0.0</td>\n",
       "      <td>3.0</td>\n",
       "      <td>0.0</td>\n",
       "      <td>0.0</td>\n",
       "      <td>0.0</td>\n",
       "      <td>0.0</td>\n",
       "      <td>0.0</td>\n",
       "      <td>0.0</td>\n",
       "      <td>0.0</td>\n",
       "      <td>...</td>\n",
       "      <td>0.0</td>\n",
       "      <td>0.0</td>\n",
       "      <td>0.0</td>\n",
       "      <td>0.0</td>\n",
       "      <td>0.0</td>\n",
       "      <td>0.0</td>\n",
       "      <td>0.0</td>\n",
       "      <td>0.0</td>\n",
       "      <td>0.0</td>\n",
       "      <td>0.0</td>\n",
       "    </tr>\n",
       "    <tr>\n",
       "      <th>4</th>\n",
       "      <td>0.0</td>\n",
       "      <td>0.0</td>\n",
       "      <td>4.0</td>\n",
       "      <td>0.0</td>\n",
       "      <td>0.0</td>\n",
       "      <td>0.0</td>\n",
       "      <td>0.0</td>\n",
       "      <td>0.0</td>\n",
       "      <td>0.0</td>\n",
       "      <td>0.0</td>\n",
       "      <td>...</td>\n",
       "      <td>0.0</td>\n",
       "      <td>0.0</td>\n",
       "      <td>0.0</td>\n",
       "      <td>0.0</td>\n",
       "      <td>0.0</td>\n",
       "      <td>0.0</td>\n",
       "      <td>0.0</td>\n",
       "      <td>0.0</td>\n",
       "      <td>0.0</td>\n",
       "      <td>0.0</td>\n",
       "    </tr>\n",
       "  </tbody>\n",
       "</table>\n",
       "<p>5 rows × 21128 columns</p>\n",
       "</div>"
      ],
      "text/plain": [
       "bookIDX  0      1      2      3      4      5      6      7      8      9      \\\n",
       "userIDX                                                                         \n",
       "0          2.0    0.0    0.0    0.0    0.0    0.0    0.0    0.0    0.0    0.0   \n",
       "1          0.0    2.0    0.0    0.0    0.0    0.0    0.0    0.0    0.0    0.0   \n",
       "2          0.0    0.0    4.0    0.0    0.0    0.0    0.0    0.0    0.0    0.0   \n",
       "3          0.0    0.0    3.0    0.0    0.0    0.0    0.0    0.0    0.0    0.0   \n",
       "4          0.0    0.0    4.0    0.0    0.0    0.0    0.0    0.0    0.0    0.0   \n",
       "\n",
       "bookIDX  ...    21118  21119  21120  21121  21122  21123  21124  21125  21126  \\\n",
       "userIDX  ...                                                                    \n",
       "0        ...      0.0    0.0    0.0    0.0    0.0    0.0    0.0    0.0    0.0   \n",
       "1        ...      0.0    0.0    0.0    0.0    0.0    0.0    0.0    0.0    0.0   \n",
       "2        ...      0.0    0.0    0.0    0.0    0.0    0.0    0.0    0.0    0.0   \n",
       "3        ...      0.0    0.0    0.0    0.0    0.0    0.0    0.0    0.0    0.0   \n",
       "4        ...      0.0    0.0    0.0    0.0    0.0    0.0    0.0    0.0    0.0   \n",
       "\n",
       "bookIDX  21127  \n",
       "userIDX         \n",
       "0          0.0  \n",
       "1          0.0  \n",
       "2          0.0  \n",
       "3          0.0  \n",
       "4          0.0  \n",
       "\n",
       "[5 rows x 21128 columns]"
      ]
     },
     "execution_count": 66,
     "metadata": {},
     "output_type": "execute_result"
    }
   ],
   "source": [
    "R_DataFrame.head()"
   ]
  },
  {
   "cell_type": "code",
   "execution_count": null,
   "metadata": {},
   "outputs": [],
   "source": [
    "def recommendBooks(predictionsDF, userIDX, booksDF, original_ratings_df, num_recommendations=5):\n",
    "    \n",
    "    # Get and sort the user's predictions\n",
    "    sorted_user_predictions = (predictionsDF.iloc[userIDX]).sort_values(ascending=False)\n",
    "    \n",
    "    # Get the user's data and merge in the movie information.\n",
    "    user_data = original_ratings_df[original_ratings_df.userIDX == (userIDX)]\n",
    "    \n",
    "    user_full = (user_data.merge(booksDF, how = 'left', left_on = 'bookIDX', right_on = 'bookIDX').\n",
    "                     sort_values(['impressionRating'], ascending=False)\n",
    "                 )\n",
    "\n",
    "    print('User {0} has already rated {1} books.'.format(userIDX, user_full.shape[0]))\n",
    "    print('Recommending the highest {0} predicted ratings of books not already rated.'.format(num_recommendations))\n",
    "\n",
    "    \n",
    "    # Recommend the highest predicted ratings of books the user hasn't interacted with yet\n",
    "    recommendations = (booksDF[~booksDF['bookIDX'].isin(user_full['bookIDX'])].\n",
    "                       merge(pd.DataFrame(sorted_user_predictions).reset_index(), how = 'left',\n",
    "                             left_on = 'bookIDX',\n",
    "                             right_on = 'bookIDX').\n",
    "                       rename(columns = {userIDX: 'Predictions'}).\n",
    "                       sort_values('Predictions', ascending = False).\n",
    "                       iloc[:num_recommendations, :-1]\n",
    "                      )\n",
    "\n",
    "    return user_full, recommendations\n",
    "#enddef"
   ]
  },
  {
   "cell_type": "code",
   "execution_count": null,
   "metadata": {
    "scrolled": true
   },
   "outputs": [],
   "source": [
    "already_rated, predictions = recommendBooks(allPredictedRatingsDataFrame, \n",
    "                                            10, \n",
    "                                            booksDataFrame, \n",
    "                                            filledEventsDataFrame, \n",
    "                                            MAX_RECOMMNEDATIONS)"
   ]
  },
  {
   "cell_type": "code",
   "execution_count": null,
   "metadata": {
    "scrolled": true
   },
   "outputs": [],
   "source": [
    "already_rated"
   ]
  },
  {
   "cell_type": "code",
   "execution_count": null,
   "metadata": {},
   "outputs": [],
   "source": [
    "predictions"
   ]
  },
  {
   "cell_type": "markdown",
   "metadata": {},
   "source": [
    "#### -----------------Verification of SVD using the Surprise library-----------------"
   ]
  },
  {
   "cell_type": "code",
   "execution_count": 83,
   "metadata": {},
   "outputs": [],
   "source": [
    "# Prepare the data\n",
    "data = filledEventsDataFrame.copy()"
   ]
  },
  {
   "cell_type": "code",
   "execution_count": 84,
   "metadata": {
    "scrolled": true
   },
   "outputs": [],
   "source": [
    "data.drop(columns=[\"userId\", \"bookISBN\", \"author\", \"yearOfPublication\", \"authorIDX\"], inplace=True)"
   ]
  },
  {
   "cell_type": "code",
   "execution_count": 85,
   "metadata": {},
   "outputs": [],
   "source": [
    "# Reorder the columns\n",
    "data = data[[\"userIDX\", \"bookIDX\", \"impressionRating\"]]"
   ]
  },
  {
   "cell_type": "code",
   "execution_count": 86,
   "metadata": {
    "scrolled": true
   },
   "outputs": [
    {
     "data": {
      "text/html": [
       "<div>\n",
       "<style scoped>\n",
       "    .dataframe tbody tr th:only-of-type {\n",
       "        vertical-align: middle;\n",
       "    }\n",
       "\n",
       "    .dataframe tbody tr th {\n",
       "        vertical-align: top;\n",
       "    }\n",
       "\n",
       "    .dataframe thead th {\n",
       "        text-align: right;\n",
       "    }\n",
       "</style>\n",
       "<table border=\"1\" class=\"dataframe\">\n",
       "  <thead>\n",
       "    <tr style=\"text-align: right;\">\n",
       "      <th></th>\n",
       "      <th>userIDX</th>\n",
       "      <th>bookIDX</th>\n",
       "      <th>impressionRating</th>\n",
       "    </tr>\n",
       "  </thead>\n",
       "  <tbody>\n",
       "    <tr>\n",
       "      <th>0</th>\n",
       "      <td>0</td>\n",
       "      <td>0</td>\n",
       "      <td>2</td>\n",
       "    </tr>\n",
       "    <tr>\n",
       "      <th>1</th>\n",
       "      <td>1</td>\n",
       "      <td>1</td>\n",
       "      <td>2</td>\n",
       "    </tr>\n",
       "    <tr>\n",
       "      <th>2</th>\n",
       "      <td>2</td>\n",
       "      <td>2</td>\n",
       "      <td>4</td>\n",
       "    </tr>\n",
       "    <tr>\n",
       "      <th>3</th>\n",
       "      <td>3</td>\n",
       "      <td>2</td>\n",
       "      <td>3</td>\n",
       "    </tr>\n",
       "    <tr>\n",
       "      <th>4</th>\n",
       "      <td>4</td>\n",
       "      <td>2</td>\n",
       "      <td>4</td>\n",
       "    </tr>\n",
       "  </tbody>\n",
       "</table>\n",
       "</div>"
      ],
      "text/plain": [
       "   userIDX  bookIDX  impressionRating\n",
       "0        0        0                 2\n",
       "1        1        1                 2\n",
       "2        2        2                 4\n",
       "3        3        2                 3\n",
       "4        4        2                 4"
      ]
     },
     "execution_count": 86,
     "metadata": {},
     "output_type": "execute_result"
    }
   ],
   "source": [
    "data.head()"
   ]
  },
  {
   "cell_type": "code",
   "execution_count": 87,
   "metadata": {},
   "outputs": [
    {
     "data": {
      "text/plain": [
       "(41048, 3)"
      ]
     },
     "execution_count": 87,
     "metadata": {},
     "output_type": "execute_result"
    }
   ],
   "source": [
    "data.shape"
   ]
  },
  {
   "cell_type": "code",
   "execution_count": 88,
   "metadata": {},
   "outputs": [],
   "source": [
    "from surprise import SVD\n",
    "from surprise import BaselineOnly\n",
    "from surprise import Dataset\n",
    "from surprise import Reader\n",
    "from surprise.model_selection import cross_validate\n",
    "from surprise import NormalPredictor\n",
    "from surprise.model_selection import train_test_split\n",
    "from surprise import accuracy\n",
    "from surprise.model_selection import GridSearchCV"
   ]
  },
  {
   "cell_type": "code",
   "execution_count": 89,
   "metadata": {},
   "outputs": [],
   "source": [
    "reader = Reader(rating_scale=(0, 5))\n",
    "\n",
    "# The columns must correspond to user id, item id and ratings (in that order).\n",
    "surpData = Dataset.load_from_df(data[['userIDX', 'bookIDX', 'impressionRating']], reader)"
   ]
  },
  {
   "cell_type": "code",
   "execution_count": 90,
   "metadata": {},
   "outputs": [],
   "source": [
    "trainset, testset = train_test_split(surpData, test_size=.25)"
   ]
  },
  {
   "cell_type": "code",
   "execution_count": 91,
   "metadata": {},
   "outputs": [],
   "source": [
    "# Use the  SVD algorithm\n",
    "algo = SVD()"
   ]
  },
  {
   "cell_type": "code",
   "execution_count": 92,
   "metadata": {},
   "outputs": [
    {
     "name": "stdout",
     "output_type": "stream",
     "text": [
      "1.3073115390341032\n"
     ]
    }
   ],
   "source": [
    "# Train the algorithm on the trainset, and predict ratings for the testset\n",
    "param_grid = {'n_epochs': [5, 10], 'lr_all': [0.002, 0.005],\n",
    "              'reg_all': [0.4, 0.6]}\n",
    "gs = GridSearchCV(SVD, param_grid, measures=['rmse', 'mae'], cv=5)\n",
    "\n",
    "gs.fit(surpData)\n",
    "\n",
    "# best RMSE score\n",
    "print(gs.best_score['rmse'])"
   ]
  },
  {
   "cell_type": "code",
   "execution_count": null,
   "metadata": {
    "scrolled": true
   },
   "outputs": [],
   "source": [
    "# combination of parameters that gave the best RMSE score\n",
    "print(gs.best_params['rmse'])"
   ]
  },
  {
   "cell_type": "code",
   "execution_count": null,
   "metadata": {},
   "outputs": [],
   "source": [
    "predictions = algo.test(testset)"
   ]
  },
  {
   "cell_type": "code",
   "execution_count": null,
   "metadata": {},
   "outputs": [],
   "source": [
    "# Then compute RMSE\n",
    "accuracy.rmse(predictions)"
   ]
  },
  {
   "cell_type": "code",
   "execution_count": null,
   "metadata": {
    "scrolled": false
   },
   "outputs": [],
   "source": [
    "pred = algo.predict('2', '2', r_ui = 4, verbose=True)"
   ]
  },
  {
   "cell_type": "code",
   "execution_count": null,
   "metadata": {},
   "outputs": [],
   "source": [
    "pred = algo.predict('2', '7005', r_ui = 5, verbose=True)"
   ]
  },
  {
   "cell_type": "markdown",
   "metadata": {},
   "source": [
    "#### ---------MODEL 1: Simple Matrix Multiplication Implementation--------------"
   ]
  },
  {
   "cell_type": "code",
   "execution_count": null,
   "metadata": {},
   "outputs": [],
   "source": [
    "usersInput = keras.layers.Input(shape=[1],name='Users')\n",
    "booksInput = keras.layers.Input(shape=[1], name='Books')\n",
    "\n",
    "# check if we're enforcing non-negative Matrix Factorization\n",
    "# if so, include the constraint\n",
    "if NNMF:\n",
    "    usersEmbedding = keras.layers.Embedding(input_dim=numOfUsers + 1, \n",
    "                                            output_dim=MM_LATENT_FACTORS, \n",
    "                                            name='UsersEmbedding',\n",
    "                                           embeddings_constraint=non_neg())(usersInput)\n",
    "    booksEmbedding = keras.layers.Embedding(input_dim=numOfBooks + 1, \n",
    "                                                output_dim=MM_LATENT_FACTORS, \n",
    "                                                name='BooksEmbedding', \n",
    "                                             embeddings_constraint=non_neg())(booksInput)\n",
    "else:\n",
    "    usersEmbedding = keras.layers.Embedding(input_dim=numOfUsers + 1, \n",
    "                                            output_dim=MM_LATENT_FACTORS, \n",
    "                                            name='UsersEmbedding')(usersInput)\n",
    "    booksEmbedding = keras.layers.Embedding(input_dim=numOfBooks + 1, \n",
    "                                            output_dim=MM_LATENT_FACTORS, \n",
    "                                            name='BooksEmbedding')(booksInput)\n",
    "    \n",
    "    \n",
    "usersVec = keras.layers.Reshape([MM_LATENT_FACTORS], name='UsersVec')(usersEmbedding)\n",
    "booksVec = keras.layers.Reshape([MM_LATENT_FACTORS], name='BooksVec')(booksEmbedding)\n",
    "\n",
    "\n",
    "dotProd = keras.layers.dot([usersVec, booksVec], axes=1, normalize=False, name='DotProduct')\n",
    "\n",
    "matMulModel = keras.Model([usersInput, booksInput], dotProd)\n",
    "\n",
    "\n",
    "if SGD_OPTIMIZER:\n",
    "    optimizer = SGD(SGD_lr, SGD_momentum, SGD_decay, SGD_nesterov)\n",
    "else:\n",
    "    optimizer = Adam(Adam_lr, Adam_beta_1, Adam_beta_2, Adam_epsilon, Adam_decay, Adam_amsgrad)\n",
    "\n",
    "matMulModel.compile(optimizer=optimizer, loss='mean_squared_error', metrics=['mse', 'acc'])\n",
    "\n",
    "matMulModel.summary()"
   ]
  },
  {
   "cell_type": "code",
   "execution_count": null,
   "metadata": {
    "scrolled": false
   },
   "outputs": [],
   "source": [
    "plot_model(matMulModel, to_file='matMulModel.png', show_shapes=True)\n",
    "SVG(model_to_dot(matMulModel).create(prog='dot', format='svg'))"
   ]
  },
  {
   "cell_type": "code",
   "execution_count": null,
   "metadata": {
    "scrolled": true
   },
   "outputs": [],
   "source": [
    "callbacks = [keras.callbacks.EarlyStopping('val_loss', patience=3), \n",
    "             keras.callbacks.ModelCheckpoint('matMulModelWeights.h5', save_best_only=True)]\n",
    "\n",
    "trainingHistory = matMulModel.fit([trainDataFrame.userIDX, \n",
    "                                   trainDataFrame.bookIDX], \n",
    "                                  trainDataFrame.impressionRating,\n",
    "                                  validation_split=.1,  \n",
    "                                  callbacks=callbacks,\n",
    "                                  batch_size=MM_BATCH_SIZE,\n",
    "                                  epochs=MM_TRAIN_EPOCHS, \n",
    "                                  verbose=TRAIN_VERBOSE)"
   ]
  },
  {
   "cell_type": "code",
   "execution_count": null,
   "metadata": {
    "scrolled": false
   },
   "outputs": [],
   "source": [
    "pd.Series(trainingHistory.history)"
   ]
  },
  {
   "cell_type": "code",
   "execution_count": null,
   "metadata": {
    "scrolled": false
   },
   "outputs": [],
   "source": [
    "pd.Series(trainingHistory.history['loss']).plot(logy=True, label=\"Train Loss\")\n",
    "pd.Series(trainingHistory.history['val_loss']).plot(logy=True, label=\"Val Loss\")\n",
    "plt.legend(loc='upper right')\n",
    "plt.xlabel(\"Epoch\")\n",
    "plt.ylabel(\"Training Error\")"
   ]
  },
  {
   "cell_type": "code",
   "execution_count": null,
   "metadata": {
    "scrolled": true
   },
   "outputs": [],
   "source": [
    "# Make some preditions\n",
    "matMulRatingsPredictions = matMulModel.predict([testDataFrame.userIDX, testDataFrame.bookIDX])\n",
    "matMulRatingsPredictions = np.rint(matMulRatingsPredictions)"
   ]
  },
  {
   "cell_type": "code",
   "execution_count": null,
   "metadata": {
    "scrolled": true
   },
   "outputs": [],
   "source": [
    "displaySideBySide(pd.DataFrame(matMulRatingsPredictions).head(100), pd.DataFrame(actualImpressionRatings.head(100)))"
   ]
  },
  {
   "cell_type": "code",
   "execution_count": null,
   "metadata": {},
   "outputs": [],
   "source": [
    "# How did we do?\n",
    "print(\"MAE {0:2.2f}\".format(mean_absolute_error(actualImpressionRatings, matMulRatingsPredictions)))\n",
    "print(\"RMSE {0:2.2f}\".format(sqrt(mean_squared_error(actualImpressionRatings, matMulRatingsPredictions))))"
   ]
  },
  {
   "cell_type": "code",
   "execution_count": null,
   "metadata": {
    "scrolled": true
   },
   "outputs": [],
   "source": [
    "# Retrieve the learnt embeddings\n",
    "booksLearntEmbeddings = matMulModel.get_layer(name='BooksEmbedding').get_weights()[0]\n",
    "usersLearntEmbeddings = matMulModel.get_layer(name='UsersEmbedding').get_weights()[0]"
   ]
  },
  {
   "cell_type": "code",
   "execution_count": null,
   "metadata": {},
   "outputs": [],
   "source": [
    "displaySideBySide(pd.DataFrame(usersLearntEmbeddings).head(), pd.DataFrame(usersLearntEmbeddings).describe())"
   ]
  },
  {
   "cell_type": "code",
   "execution_count": null,
   "metadata": {
    "scrolled": false
   },
   "outputs": [],
   "source": [
    "displaySideBySide(pd.DataFrame(booksLearntEmbeddings).head(), pd.DataFrame(booksLearntEmbeddings).describe())"
   ]
  },
  {
   "cell_type": "markdown",
   "metadata": {},
   "source": [
    "#### ----------Model 2: Neural Net Implementation (adding depth)-------------"
   ]
  },
  {
   "cell_type": "code",
   "execution_count": null,
   "metadata": {
    "scrolled": true
   },
   "outputs": [],
   "source": [
    "usersInput = keras.layers.Input(shape=[1],name='Users')\n",
    "booksInput = keras.layers.Input(shape=[1], name='Books')\n",
    "\n",
    "bias = 1\n",
    "\n",
    "# check if we're enforcing non-negative Matrix Factorization\n",
    "# if so, include the constraint\n",
    "if NNMF:\n",
    "    usersEmbedding = keras.layers.Embedding(input_dim=numOfUsers + 1, \n",
    "                                            output_dim=MM_LATENT_FACTORS, \n",
    "                                            name='UsersEmbedding',\n",
    "                                           embeddings_constraint=non_neg())(usersInput)\n",
    "    booksEmbedding = keras.layers.Embedding(input_dim=numOfBooks + 1, \n",
    "                                                output_dim=MM_LATENT_FACTORS, \n",
    "                                                name='BooksEmbedding', \n",
    "                                             embeddings_constraint=non_neg())(booksInput)\n",
    "else:\n",
    "    usersEmbedding = keras.layers.Embedding(input_dim=numOfUsers + 1, \n",
    "                                            output_dim=MM_LATENT_FACTORS, \n",
    "                                            name='UsersEmbedding')(usersInput)\n",
    "    booksEmbedding = keras.layers.Embedding(input_dim=numOfBooks + 1, \n",
    "                                            output_dim=MM_LATENT_FACTORS, \n",
    "                                            name='BooksEmbedding')(booksInput)\n",
    "\n",
    "\n",
    "userBias = keras.layers.Embedding(input_dim=numOfUsers + 1, \n",
    "                                  output_dim=bias,\n",
    "                                  input_length=1,\n",
    "                                  name=\"userBias\")(usersInput)\n",
    "bookBias = keras.layers.Embedding(input_dim=numOfBooks + 1, \n",
    "                                  output_dim=bias,\n",
    "                                  input_length=1,\n",
    "                                  name=\"bookBias\")(booksInput)\n",
    "\n",
    "userBias = keras.layers.Flatten()(userBias)\n",
    "bookBias = keras.layers.Flatten()(bookBias)\n",
    "\n",
    "usersVec = keras.layers.Flatten()(usersEmbedding)\n",
    "booksVec = keras.layers.Flatten()(booksEmbedding)\n",
    "\n",
    "dotProd = keras.layers.dot([usersVec, booksVec], axes=1, normalize=True, name='DotProduct')\n",
    "\n",
    "\n",
    "\n",
    "concatVecs = keras.layers.Concatenate()([dotProd, userBias, bookBias])\n",
    "\n",
    "d1 = keras.layers.Dense(128, activation='relu')(concatVecs)\n",
    "d1_drop = keras.layers.Dropout(0.2, name='Dropout')(d1)\n",
    "\n",
    "d2 = keras.layers.Dense(1)(d1)\n",
    "d2_drop = keras.layers.Dropout(0.2, name='Dropout')(d2)\n",
    "\n",
    "neuralNetModel = keras.Model([usersInput, booksInput], d2)\n",
    "\n",
    "\n",
    "if SGD_OPTIMIZER:\n",
    "    optimizer = SGD(SGD_lr, SGD_momentum, SGD_decay, SGD_nesterov)\n",
    "else:\n",
    "    optimizer = Adam(Adam_lr, Adam_beta_1, Adam_beta_2, Adam_epsilon, Adam_decay, Adam_amsgrad)\n",
    "\n",
    "neuralNetModel.compile(optimizer=optimizer, loss='mean_squared_error', metrics=['mse', 'acc'])\n",
    "\n",
    "neuralNetModel.summary()"
   ]
  },
  {
   "cell_type": "code",
   "execution_count": null,
   "metadata": {},
   "outputs": [],
   "source": [
    "plot_model(neuralNetModel, to_file='neuralNetModel.png', show_shapes=True)\n",
    "SVG(model_to_dot(neuralNetModel).create(prog='dot', format='svg'))"
   ]
  },
  {
   "cell_type": "code",
   "execution_count": null,
   "metadata": {
    "scrolled": true
   },
   "outputs": [],
   "source": [
    "callbacks = [keras.callbacks.EarlyStopping('val_loss', patience=3), \n",
    "             keras.callbacks.ModelCheckpoint('neuralNetModelWeights.h5', save_best_only=True)]\n",
    "\n",
    "trainingHistory = neuralNetModel.fit([trainDataFrame.userIDX, trainDataFrame.bookIDX], \n",
    "                                     trainDataFrame.impressionRating, \n",
    "                                     validation_split=.1, \n",
    "                                     callbacks=callbacks,\n",
    "                                     batch_size=NN_BATCH_SIZE,\n",
    "                                     epochs=NN_TRAIN_EPOCHS, \n",
    "                                     verbose=TRAIN_VERBOSE)"
   ]
  },
  {
   "cell_type": "code",
   "execution_count": null,
   "metadata": {
    "scrolled": false
   },
   "outputs": [],
   "source": [
    "pd.Series(trainingHistory.history)"
   ]
  },
  {
   "cell_type": "code",
   "execution_count": null,
   "metadata": {},
   "outputs": [],
   "source": [
    "pd.Series(trainingHistory.history['loss']).plot(logy=True, label=\"Train Loss\")\n",
    "pd.Series(trainingHistory.history['val_loss']).plot(logy=True, label=\"Val Loss\")\n",
    "plt.legend(loc='upper right')\n",
    "plt.xlabel(\"Epoch\")\n",
    "plt.ylabel(\"Training Error\")"
   ]
  },
  {
   "cell_type": "code",
   "execution_count": null,
   "metadata": {},
   "outputs": [],
   "source": [
    "# Make some preditions\n",
    "neuralNetRatingsPredictions = neuralNetModel.predict([testDataFrame.userIDX, \n",
    "                                                      testDataFrame.bookIDX])\n",
    "neuralNetRatingsPredictions = np.rint(neuralNetRatingsPredictions)"
   ]
  },
  {
   "cell_type": "code",
   "execution_count": null,
   "metadata": {},
   "outputs": [],
   "source": [
    "displaySideBySide(pd.DataFrame(neuralNetRatingsPredictions).head(30), \n",
    "                  pd.DataFrame(actualImpressionRatings).head(30))"
   ]
  },
  {
   "cell_type": "markdown",
   "metadata": {},
   "source": [
    "#### ----------Model 3: Neural Net Implementation (adding Bias and 2 features: Author & YearOfPublication)-------------"
   ]
  },
  {
   "cell_type": "code",
   "execution_count": null,
   "metadata": {
    "scrolled": true
   },
   "outputs": [],
   "source": [
    "usersInput = keras.layers.Input(shape=[1],name='Users')\n",
    "booksInput = keras.layers.Input(shape=[1], name='Books')\n",
    "authorsInput = keras.layers.Input(shape=[1], name='Authors')\n",
    "yearOfPubInput = keras.layers.Input(shape=[1], name='YearOfPub')\n",
    "\n",
    "bias = 1\n",
    "\n",
    "# check if we're enforcing non-negative Matrix Factorization\n",
    "# if so, include the constraint\n",
    "if NNMF:\n",
    "    usersEmbedding = keras.layers.Embedding(input_dim=numOfUsers + 1, \n",
    "                                            output_dim=MM_LATENT_FACTORS, \n",
    "                                            name='UsersEmbedding',\n",
    "                                           embeddings_constraint=non_neg())(usersInput)\n",
    "    booksEmbedding = keras.layers.Embedding(input_dim=numOfBooks + 1, \n",
    "                                                output_dim=MM_LATENT_FACTORS, \n",
    "                                                name='BooksEmbedding', \n",
    "                                             embeddings_constraint=non_neg())(booksInput)\n",
    "else:\n",
    "    usersEmbedding = keras.layers.Embedding(input_dim=numOfUsers + 1, \n",
    "                                            output_dim=MM_LATENT_FACTORS, \n",
    "                                            name='UsersEmbedding')(usersInput)\n",
    "    booksEmbedding = keras.layers.Embedding(input_dim=numOfBooks + 1, \n",
    "                                            output_dim=MM_LATENT_FACTORS, \n",
    "                                            name='BooksEmbedding')(booksInput)\n",
    "\n",
    "\n",
    "userBias = keras.layers.Embedding(input_dim=numOfUsers + 1, \n",
    "                                  output_dim=bias,\n",
    "                                  input_length=1,\n",
    "                                  name=\"userBias\")(usersInput)\n",
    "bookBias = keras.layers.Embedding(input_dim=numOfBooks + 1, \n",
    "                                  output_dim=bias,\n",
    "                                  input_length=1,\n",
    "                                  name=\"bookBias\")(booksInput)\n",
    "\n",
    "userBias = keras.layers.Flatten()(userBias)\n",
    "bookBias = keras.layers.Flatten()(bookBias)\n",
    "\n",
    "usersVec = keras.layers.Flatten()(usersEmbedding)\n",
    "booksVec = keras.layers.Flatten()(booksEmbedding)\n",
    "\n",
    "dotProd = keras.layers.dot([usersVec, booksVec], axes=1, normalize=True, name='DotProduct')\n",
    "\n",
    "\n",
    "\n",
    "concatVecs = keras.layers.Concatenate()([dotProd, userBias, bookBias, authorsInput, yearOfPubInput])\n",
    "\n",
    "d1 = keras.layers.Dense(128, activation='relu')(concatVecs)\n",
    "d1_drop = keras.layers.Dropout(0.2, name='Dropout')(d1)\n",
    "\n",
    "d2 = keras.layers.Dense(1)(d1)\n",
    "d2_drop = keras.layers.Dropout(0.2, name='Dropout')(d2)\n",
    "\n",
    "neuralNetModel = keras.Model(inputs=[usersInput, booksInput, authorsInput, yearOfPubInput], outputs=d2)\n",
    "\n",
    "\n",
    "if SGD_OPTIMIZER:\n",
    "    optimizer = SGD(SGD_lr, SGD_momentum, SGD_decay, SGD_nesterov)\n",
    "else:\n",
    "    optimizer = Adam(Adam_lr, Adam_beta_1, Adam_beta_2, Adam_epsilon, Adam_decay, Adam_amsgrad)\n",
    "\n",
    "neuralNetModel.compile(optimizer=optimizer, loss='mean_squared_error', metrics=['mse', 'acc'])\n",
    "\n",
    "neuralNetModel.summary()"
   ]
  },
  {
   "cell_type": "code",
   "execution_count": null,
   "metadata": {},
   "outputs": [],
   "source": [
    "plot_model(neuralNetModel, to_file='neuralNetModel.png', show_shapes=True)\n",
    "SVG(model_to_dot(neuralNetModel).create(prog='dot', format='svg'))"
   ]
  },
  {
   "cell_type": "code",
   "execution_count": null,
   "metadata": {},
   "outputs": [],
   "source": [
    "callbacks = [keras.callbacks.EarlyStopping('val_loss', patience=3), \n",
    "             keras.callbacks.ModelCheckpoint('neuralNetModelWeights.h5', save_best_only=True)]\n",
    "\n",
    "trainingHistory = neuralNetModel.fit([trainDataFrame.userIDX, \n",
    "                                      trainDataFrame.bookIDX, \n",
    "                                      trainDataFrame.authorIDX, \n",
    "                                      trainDataFrame.yearOfPublication], \n",
    "                                     trainDataFrame.impressionRating, \n",
    "                                     validation_split=.1, \n",
    "                                     callbacks=callbacks,\n",
    "                                     batch_size=NN_BATCH_SIZE,\n",
    "                                     epochs=NN_TRAIN_EPOCHS, \n",
    "                                     verbose=TRAIN_VERBOSE)"
   ]
  },
  {
   "cell_type": "code",
   "execution_count": null,
   "metadata": {
    "scrolled": false
   },
   "outputs": [],
   "source": [
    "pd.Series(trainingHistory.history)"
   ]
  },
  {
   "cell_type": "code",
   "execution_count": null,
   "metadata": {},
   "outputs": [],
   "source": [
    "pd.Series(trainingHistory.history['loss']).plot(logy=True, label=\"Train Loss\")\n",
    "pd.Series(trainingHistory.history['val_loss']).plot(logy=True, label=\"Val Loss\")\n",
    "plt.legend(loc='upper right')\n",
    "plt.xlabel(\"Epoch\")\n",
    "plt.ylabel(\"Training Error\")"
   ]
  },
  {
   "cell_type": "code",
   "execution_count": null,
   "metadata": {},
   "outputs": [],
   "source": [
    "# Make some preditions\n",
    "neuralNetRatingsPredictions = neuralNetModel.predict([testDataFrame.userIDX, \n",
    "                                                      testDataFrame.bookIDX])\n",
    "neuralNetRatingsPredictions = np.rint(neuralNetRatingsPredictions)"
   ]
  },
  {
   "cell_type": "code",
   "execution_count": null,
   "metadata": {},
   "outputs": [],
   "source": [
    "displaySideBySide(pd.DataFrame(neuralNetRatingsPredictions).head(30), \n",
    "                  pd.DataFrame(actualImpressionRatings).head(30))"
   ]
  },
  {
   "cell_type": "markdown",
   "metadata": {},
   "source": [
    "#### ----------Model 4: Neural Net Implementation (adding more depth)-------------"
   ]
  },
  {
   "cell_type": "code",
   "execution_count": null,
   "metadata": {
    "scrolled": false
   },
   "outputs": [],
   "source": [
    "# Neural Net Implementation\n",
    "\n",
    "booksInput = keras.layers.Input(shape=[1], name='Books')\n",
    "booksEmbedding = keras.layers.Embedding(numOfBooks + 1, \n",
    "                                         NN_MOVIE_LATENT_FACTORS,\n",
    "                                        embeddings_regularizer=l2(1e-4),\n",
    "                                         name='BooksEmbedding')(booksInput)\n",
    "booksVec = keras.layers.Flatten(name='FlattenBooks')(booksEmbedding)\n",
    "booksVec = keras.layers.Dropout(0.2)(booksVec)\n",
    "\n",
    "\n",
    "usersInput = keras.layers.Input(shape=[1], name='Users')\n",
    "usersEmbedding = keras.layers.Embedding(numOfUsers + 1, \n",
    "                                        NN_USER_LATENT_FACTORS, \n",
    "                                        embeddings_regularizer=l2(1e-4),\n",
    "                                        name='UsesEmbedding')(usersInput)\n",
    "usersVec = keras.layers.Flatten(name='FlattenUsers')(usersEmbedding)\n",
    "usersVec = keras.layers.Dropout(0.2)(usersVec)\n",
    "\n",
    "concatLayer = keras.layers.concatenate([booksVec, usersVec], axis=1, name='ConcatLayer')\n",
    "concatDropout = keras.layers.Dropout(0.2)(concatLayer)\n",
    "\n",
    "denseLayer_1 = keras.layers.Dense(200, name='FullyConnected-0')(concatLayer)\n",
    "dropoutLayer_1 = keras.layers.Dropout(0.2, name='Dropout')(denseLayer_1)\n",
    "\n",
    "denseLayer_2 = keras.layers.Dense(100, name='FullyConnected-1')(concatLayer)\n",
    "dropoutLayer_2 = keras.layers.Dropout(0.2, name='Dropout')(denseLayer_2)\n",
    "\n",
    "denseLayer_3 = keras.layers.Dense(50, name='FullyConnected-2')(denseLayer_2)\n",
    "dropoutLayer_3 = keras.layers.Dropout(0.2, name='Dropout')(denseLayer_3)\n",
    "\n",
    "denseLayer_4 = keras.layers.Dense(20, name='FullyConnected-3', activation='relu')(denseLayer_3)\n",
    "result = keras.layers.Dense(1, activation='relu', name='Activation')(denseLayer_4)\n",
    "\n",
    "if SGD_OPTIMIZER:\n",
    "    optimizer = SGD(SGD_lr, SGD_momentum, SGD_decay, SGD_nesterov)\n",
    "else:\n",
    "    optimizer = Adam(Adam_lr, Adam_beta_1, Adam_beta_2, Adam_epsilon, Adam_decay, Adam_amsgrad)\n",
    "\n",
    "neuralNetModel = keras.Model([usersInput, booksInput], result)\n",
    "neuralNetModel.compile(optimizer=optimizer, loss='mean_squared_error', metrics=['mse', 'acc'])\n",
    "\n",
    "neuralNetModel.summary()"
   ]
  },
  {
   "cell_type": "code",
   "execution_count": null,
   "metadata": {},
   "outputs": [],
   "source": [
    "plot_model(neuralNetModel, to_file='neuralNetModel.png', show_shapes=True)\n",
    "SVG(model_to_dot(neuralNetModel).create(prog='dot', format='svg'))"
   ]
  },
  {
   "cell_type": "code",
   "execution_count": null,
   "metadata": {
    "scrolled": true
   },
   "outputs": [],
   "source": [
    "callbacks = [keras.callbacks.EarlyStopping('val_loss', patience=3), \n",
    "             keras.callbacks.ModelCheckpoint('neuralNetModelWeights.h5', save_best_only=True)]\n",
    "\n",
    "trainingHistory = neuralNetModel.fit([trainDataFrame.userIDX, trainDataFrame.bookIDX], \n",
    "                                     trainDataFrame.impressionRating, \n",
    "                                     validation_split=.1, \n",
    "                                     callbacks=callbacks,\n",
    "                                     batch_size=NN_BATCH_SIZE,\n",
    "                                     epochs=NN_TRAIN_EPOCHS, \n",
    "                                     verbose=TRAIN_VERBOSE)"
   ]
  },
  {
   "cell_type": "code",
   "execution_count": null,
   "metadata": {
    "scrolled": false
   },
   "outputs": [],
   "source": [
    "pd.Series(trainingHistory.history)"
   ]
  },
  {
   "cell_type": "code",
   "execution_count": null,
   "metadata": {},
   "outputs": [],
   "source": [
    "pd.Series(trainingHistory.history['loss']).plot(logy=True, label=\"Train Loss\")\n",
    "pd.Series(trainingHistory.history['val_loss']).plot(logy=True, label=\"Val Loss\")\n",
    "plt.legend(loc='upper right')\n",
    "plt.xlabel(\"Epoch\")\n",
    "plt.ylabel(\"Training Error\")"
   ]
  },
  {
   "cell_type": "code",
   "execution_count": null,
   "metadata": {},
   "outputs": [],
   "source": [
    "# Make some preditions\n",
    "neuralNetRatingsPredictions = neuralNetModel.predict([testDataFrame.userIDX, \n",
    "                                                      testDataFrame.bookIDX])\n",
    "neuralNetRatingsPredictions = np.rint(neuralNetRatingsPredictions)"
   ]
  },
  {
   "cell_type": "code",
   "execution_count": null,
   "metadata": {},
   "outputs": [],
   "source": [
    "displaySideBySide(pd.DataFrame(neuralNetRatingsPredictions).head(30), \n",
    "                  pd.DataFrame(actualImpressionRatings).head(30))"
   ]
  },
  {
   "cell_type": "code",
   "execution_count": null,
   "metadata": {
    "scrolled": false
   },
   "outputs": [],
   "source": [
    "# How did we do?\n",
    "print(\"MAE {0:2.2f}\".format(mean_absolute_error(actualImpressionRatings, neuralNetRatingsPredictions)))\n",
    "print(\"RMSE {0:2.2f}\".format(sqrt(mean_squared_error(actualImpressionRatings, neuralNetRatingsPredictions))))"
   ]
  },
  {
   "cell_type": "markdown",
   "metadata": {},
   "source": [
    "#### ---------END OF NOTEBOOK--------------"
   ]
  },
  {
   "cell_type": "code",
   "execution_count": null,
   "metadata": {},
   "outputs": [],
   "source": []
  }
 ],
 "metadata": {
  "kernelspec": {
   "display_name": "dog-project",
   "language": "python",
   "name": "dog-project"
  },
  "language_info": {
   "codemirror_mode": {
    "name": "ipython",
    "version": 3
   },
   "file_extension": ".py",
   "mimetype": "text/x-python",
   "name": "python",
   "nbconvert_exporter": "python",
   "pygments_lexer": "ipython3",
   "version": "3.5.3"
  }
 },
 "nbformat": 4,
 "nbformat_minor": 2
}
